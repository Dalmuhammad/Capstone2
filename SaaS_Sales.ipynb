{
 "cells": [
  {
   "cell_type": "markdown",
   "metadata": {},
   "source": [
    "# **AWS SaaS Sales**"
   ]
  },
  {
   "cell_type": "markdown",
   "metadata": {},
   "source": [
    "## Introduction"
   ]
  },
  {
   "cell_type": "markdown",
   "metadata": {},
   "source": [
    "\n",
    "The AWS SaaS Sales dataset provides transactional data from a hypothetical B2B SaaS company specializing in sales and marketing software. Each row represents a product within a transaction, with detailed information such as unique identifiers for each transaction and order, dates, customer and contact details, and geographical data (country, city, region, and subregion). Additionally, it captures customer specifics like industry and segment, alongside product details, sales amounts, quantities, discounts, and profits. This dataset offers valuable insights for analyzing profit, sales performance across different regions and customer segments, etc."
   ]
  },
  {
   "cell_type": "markdown",
   "metadata": {},
   "source": [
    "In the dataset, each row represents a product in a transaction, and the columns include:\n",
    " 1. Row ID: A unique identifier for each transaction.\n",
    " 2. Order ID: A unique identifier for each order.\n",
    " 3. Order Date: The date when the order was placed.\n",
    " 4. Date Key: A numerical representation of the order date (YYYYMMDD).\n",
    " 5. Contact Name: The name of the person who placed the order.\n",
    " 6. Country: The country where the order was placed.\n",
    " 7. City: The city where the order was placed.\n",
    " 8. Region: The region where the order was placed.\n",
    " 9. Subregion: The subregion where the order was placed.\n",
    " 10. Customer: The name of the company that placed the order.\n",
    " 11. Customer ID: A unique identifier for each customer.\n",
    " 12. Industry: The industry the customer belongs to.\n",
    " 13. Segment: The customer segment (SMB, Strategic, Enterprise, etc.).\n",
    " 14. Product: The product was ordered.\n",
    " 15. License: The license key for the product.\n",
    " 16. Sales: The total sales amount for the transaction.\n",
    " 17. Quantity: The total number of items in the transaction.\n",
    " 18. Discount: The discount applied to the transaction.\n",
    " 19. Profit: The profit from the transaction"
   ]
  },
  {
   "cell_type": "markdown",
   "metadata": {},
   "source": [
    "In this analysis, we aim to identify factors that can drive an increase in profit while simultaneously pinpointing potential risks that may reduce profitability. By examining product performance, customer segments, and regional variations, etc., we will seek to understand which strategies could maximize returns and where losses may be minimized. This approach will help us develop data-driven recommendations for enhancing profit stability and mitigating risks associated with variability in sales and discounts."
   ]
  },
  {
   "cell_type": "markdown",
   "metadata": {},
   "source": [
    "## Data Preparation"
   ]
  },
  {
   "cell_type": "markdown",
   "metadata": {},
   "source": [
    "Import library"
   ]
  },
  {
   "cell_type": "code",
   "execution_count": 1,
   "metadata": {},
   "outputs": [],
   "source": [
    "import numpy as np\n",
    "import pandas as pd\n",
    "import matplotlib.pyplot as plt\n",
    "import seaborn as sns\n",
    "import squarify\n",
    "import plotly.express as px\n",
    "import scipy.stats as stats"
   ]
  },
  {
   "cell_type": "markdown",
   "metadata": {},
   "source": [
    "Load Data"
   ]
  },
  {
   "cell_type": "code",
   "execution_count": 68,
   "metadata": {},
   "outputs": [],
   "source": [
    "df = pd.read_csv('SaaS-Sales.csv')"
   ]
  },
  {
   "cell_type": "markdown",
   "metadata": {},
   "source": [
    "Data Inspection"
   ]
  },
  {
   "cell_type": "code",
   "execution_count": 69,
   "metadata": {},
   "outputs": [
    {
     "data": {
      "text/html": [
       "<div>\n",
       "<style scoped>\n",
       "    .dataframe tbody tr th:only-of-type {\n",
       "        vertical-align: middle;\n",
       "    }\n",
       "\n",
       "    .dataframe tbody tr th {\n",
       "        vertical-align: top;\n",
       "    }\n",
       "\n",
       "    .dataframe thead th {\n",
       "        text-align: right;\n",
       "    }\n",
       "</style>\n",
       "<table border=\"1\" class=\"dataframe\">\n",
       "  <thead>\n",
       "    <tr style=\"text-align: right;\">\n",
       "      <th></th>\n",
       "      <th>Row ID</th>\n",
       "      <th>Order ID</th>\n",
       "      <th>Order Date</th>\n",
       "      <th>Date Key</th>\n",
       "      <th>Contact Name</th>\n",
       "      <th>Country</th>\n",
       "      <th>City</th>\n",
       "      <th>Region</th>\n",
       "      <th>Subregion</th>\n",
       "      <th>Customer</th>\n",
       "      <th>Customer ID</th>\n",
       "      <th>Industry</th>\n",
       "      <th>Segment</th>\n",
       "      <th>Product</th>\n",
       "      <th>License</th>\n",
       "      <th>Sales</th>\n",
       "      <th>Quantity</th>\n",
       "      <th>Discount</th>\n",
       "      <th>Profit</th>\n",
       "    </tr>\n",
       "  </thead>\n",
       "  <tbody>\n",
       "    <tr>\n",
       "      <th>0</th>\n",
       "      <td>1</td>\n",
       "      <td>EMEA-2022-152156</td>\n",
       "      <td>11/9/2022</td>\n",
       "      <td>20221109</td>\n",
       "      <td>Nathan Bell</td>\n",
       "      <td>Ireland</td>\n",
       "      <td>Dublin</td>\n",
       "      <td>EMEA</td>\n",
       "      <td>UKIR</td>\n",
       "      <td>Chevron</td>\n",
       "      <td>1017</td>\n",
       "      <td>Energy</td>\n",
       "      <td>SMB</td>\n",
       "      <td>Marketing Suite</td>\n",
       "      <td>16GRM07R1K</td>\n",
       "      <td>261.9600</td>\n",
       "      <td>2</td>\n",
       "      <td>0.00</td>\n",
       "      <td>41.9136</td>\n",
       "    </tr>\n",
       "    <tr>\n",
       "      <th>1</th>\n",
       "      <td>2</td>\n",
       "      <td>EMEA-2022-152156</td>\n",
       "      <td>11/9/2022</td>\n",
       "      <td>20221109</td>\n",
       "      <td>Nathan Bell</td>\n",
       "      <td>Ireland</td>\n",
       "      <td>Dublin</td>\n",
       "      <td>EMEA</td>\n",
       "      <td>UKIR</td>\n",
       "      <td>Chevron</td>\n",
       "      <td>1017</td>\n",
       "      <td>Energy</td>\n",
       "      <td>SMB</td>\n",
       "      <td>FinanceHub</td>\n",
       "      <td>QLIW57KZUV</td>\n",
       "      <td>731.9400</td>\n",
       "      <td>3</td>\n",
       "      <td>0.00</td>\n",
       "      <td>219.5820</td>\n",
       "    </tr>\n",
       "    <tr>\n",
       "      <th>2</th>\n",
       "      <td>3</td>\n",
       "      <td>AMER-2022-138688</td>\n",
       "      <td>6/13/2022</td>\n",
       "      <td>20220613</td>\n",
       "      <td>Deirdre Bailey</td>\n",
       "      <td>United States</td>\n",
       "      <td>New York City</td>\n",
       "      <td>AMER</td>\n",
       "      <td>NAMER</td>\n",
       "      <td>Phillips 66</td>\n",
       "      <td>1056</td>\n",
       "      <td>Energy</td>\n",
       "      <td>Strategic</td>\n",
       "      <td>FinanceHub</td>\n",
       "      <td>JI6BVL70HQ</td>\n",
       "      <td>14.6200</td>\n",
       "      <td>2</td>\n",
       "      <td>0.00</td>\n",
       "      <td>6.8714</td>\n",
       "    </tr>\n",
       "    <tr>\n",
       "      <th>3</th>\n",
       "      <td>4</td>\n",
       "      <td>EMEA-2021-108966</td>\n",
       "      <td>10/11/2021</td>\n",
       "      <td>20211011</td>\n",
       "      <td>Zoe Hodges</td>\n",
       "      <td>Germany</td>\n",
       "      <td>Stuttgart</td>\n",
       "      <td>EMEA</td>\n",
       "      <td>EU-WEST</td>\n",
       "      <td>Royal Dutch Shell</td>\n",
       "      <td>1031</td>\n",
       "      <td>Energy</td>\n",
       "      <td>SMB</td>\n",
       "      <td>ContactMatcher</td>\n",
       "      <td>DE9GJKGD44</td>\n",
       "      <td>957.5775</td>\n",
       "      <td>5</td>\n",
       "      <td>0.45</td>\n",
       "      <td>-383.0310</td>\n",
       "    </tr>\n",
       "    <tr>\n",
       "      <th>4</th>\n",
       "      <td>5</td>\n",
       "      <td>EMEA-2021-108966</td>\n",
       "      <td>10/11/2021</td>\n",
       "      <td>20211011</td>\n",
       "      <td>Zoe Hodges</td>\n",
       "      <td>Germany</td>\n",
       "      <td>Stuttgart</td>\n",
       "      <td>EMEA</td>\n",
       "      <td>EU-WEST</td>\n",
       "      <td>Royal Dutch Shell</td>\n",
       "      <td>1031</td>\n",
       "      <td>Energy</td>\n",
       "      <td>SMB</td>\n",
       "      <td>Marketing Suite - Gold</td>\n",
       "      <td>OIF7NY23WD</td>\n",
       "      <td>22.3680</td>\n",
       "      <td>2</td>\n",
       "      <td>0.20</td>\n",
       "      <td>2.5164</td>\n",
       "    </tr>\n",
       "  </tbody>\n",
       "</table>\n",
       "</div>"
      ],
      "text/plain": [
       "   Row ID          Order ID  Order Date  Date Key    Contact Name  \\\n",
       "0       1  EMEA-2022-152156   11/9/2022  20221109     Nathan Bell   \n",
       "1       2  EMEA-2022-152156   11/9/2022  20221109     Nathan Bell   \n",
       "2       3  AMER-2022-138688   6/13/2022  20220613  Deirdre Bailey   \n",
       "3       4  EMEA-2021-108966  10/11/2021  20211011      Zoe Hodges   \n",
       "4       5  EMEA-2021-108966  10/11/2021  20211011      Zoe Hodges   \n",
       "\n",
       "         Country           City Region Subregion           Customer  \\\n",
       "0        Ireland         Dublin   EMEA      UKIR            Chevron   \n",
       "1        Ireland         Dublin   EMEA      UKIR            Chevron   \n",
       "2  United States  New York City   AMER     NAMER        Phillips 66   \n",
       "3        Germany      Stuttgart   EMEA   EU-WEST  Royal Dutch Shell   \n",
       "4        Germany      Stuttgart   EMEA   EU-WEST  Royal Dutch Shell   \n",
       "\n",
       "   Customer ID Industry    Segment                 Product     License  \\\n",
       "0         1017   Energy        SMB         Marketing Suite  16GRM07R1K   \n",
       "1         1017   Energy        SMB              FinanceHub  QLIW57KZUV   \n",
       "2         1056   Energy  Strategic              FinanceHub  JI6BVL70HQ   \n",
       "3         1031   Energy        SMB          ContactMatcher  DE9GJKGD44   \n",
       "4         1031   Energy        SMB  Marketing Suite - Gold  OIF7NY23WD   \n",
       "\n",
       "      Sales  Quantity  Discount    Profit  \n",
       "0  261.9600         2      0.00   41.9136  \n",
       "1  731.9400         3      0.00  219.5820  \n",
       "2   14.6200         2      0.00    6.8714  \n",
       "3  957.5775         5      0.45 -383.0310  \n",
       "4   22.3680         2      0.20    2.5164  "
      ]
     },
     "execution_count": 69,
     "metadata": {},
     "output_type": "execute_result"
    }
   ],
   "source": [
    "df.head(5)"
   ]
  },
  {
   "cell_type": "code",
   "execution_count": 4,
   "metadata": {},
   "outputs": [
    {
     "name": "stdout",
     "output_type": "stream",
     "text": [
      "<class 'pandas.core.frame.DataFrame'>\n",
      "RangeIndex: 9994 entries, 0 to 9993\n",
      "Data columns (total 19 columns):\n",
      " #   Column        Non-Null Count  Dtype  \n",
      "---  ------        --------------  -----  \n",
      " 0   Row ID        9994 non-null   int64  \n",
      " 1   Order ID      9994 non-null   object \n",
      " 2   Order Date    9994 non-null   object \n",
      " 3   Date Key      9994 non-null   int64  \n",
      " 4   Contact Name  9994 non-null   object \n",
      " 5   Country       9994 non-null   object \n",
      " 6   City          9994 non-null   object \n",
      " 7   Region        9994 non-null   object \n",
      " 8   Subregion     9994 non-null   object \n",
      " 9   Customer      9994 non-null   object \n",
      " 10  Customer ID   9994 non-null   int64  \n",
      " 11  Industry      9994 non-null   object \n",
      " 12  Segment       9994 non-null   object \n",
      " 13  Product       9994 non-null   object \n",
      " 14  License       9994 non-null   object \n",
      " 15  Sales         9994 non-null   float64\n",
      " 16  Quantity      9994 non-null   int64  \n",
      " 17  Discount      9994 non-null   float64\n",
      " 18  Profit        9994 non-null   float64\n",
      "dtypes: float64(3), int64(4), object(12)\n",
      "memory usage: 1.4+ MB\n"
     ]
    }
   ],
   "source": [
    "df.info()"
   ]
  },
  {
   "cell_type": "markdown",
   "metadata": {},
   "source": [
    "Change format 'Order Date' to datetime to easier the analysis"
   ]
  },
  {
   "cell_type": "code",
   "execution_count": 5,
   "metadata": {},
   "outputs": [],
   "source": [
    "df['Order Date'] = pd.to_datetime(df['Order Date'], format='%m/%d/%Y')"
   ]
  },
  {
   "cell_type": "code",
   "execution_count": 6,
   "metadata": {},
   "outputs": [
    {
     "name": "stdout",
     "output_type": "stream",
     "text": [
      "<class 'pandas.core.series.Series'>\n",
      "RangeIndex: 9994 entries, 0 to 9993\n",
      "Series name: Order Date\n",
      "Non-Null Count  Dtype         \n",
      "--------------  -----         \n",
      "9994 non-null   datetime64[ns]\n",
      "dtypes: datetime64[ns](1)\n",
      "memory usage: 78.2 KB\n"
     ]
    }
   ],
   "source": [
    "df['Order Date'].info()"
   ]
  },
  {
   "cell_type": "markdown",
   "metadata": {},
   "source": [
    "First, we will check is there any missing data (NaN), duplicated data, or Outlier Data"
   ]
  },
  {
   "cell_type": "code",
   "execution_count": 7,
   "metadata": {},
   "outputs": [
    {
     "data": {
      "text/plain": [
       "Row ID          0\n",
       "Order ID        0\n",
       "Order Date      0\n",
       "Date Key        0\n",
       "Contact Name    0\n",
       "Country         0\n",
       "City            0\n",
       "Region          0\n",
       "Subregion       0\n",
       "Customer        0\n",
       "Customer ID     0\n",
       "Industry        0\n",
       "Segment         0\n",
       "Product         0\n",
       "License         0\n",
       "Sales           0\n",
       "Quantity        0\n",
       "Discount        0\n",
       "Profit          0\n",
       "dtype: int64"
      ]
     },
     "execution_count": 7,
     "metadata": {},
     "output_type": "execute_result"
    }
   ],
   "source": [
    "#Check missing data\n",
    "df.isna().sum()"
   ]
  },
  {
   "cell_type": "markdown",
   "metadata": {},
   "source": [
    "From the data above, the is no missing data in the data.\\\n",
    "Next, check for the duplicated data."
   ]
  },
  {
   "cell_type": "code",
   "execution_count": 8,
   "metadata": {},
   "outputs": [
    {
     "data": {
      "text/plain": [
       "0"
      ]
     },
     "execution_count": 8,
     "metadata": {},
     "output_type": "execute_result"
    }
   ],
   "source": [
    "df['Row ID'].duplicated().sum()"
   ]
  },
  {
   "cell_type": "markdown",
   "metadata": {},
   "source": [
    "For the 'Row ID' there is no duplicated data. \\\n",
    "Next, check is there any duplicated from the combination column"
   ]
  },
  {
   "cell_type": "code",
   "execution_count": 9,
   "metadata": {},
   "outputs": [
    {
     "data": {
      "text/plain": [
       "0"
      ]
     },
     "execution_count": 9,
     "metadata": {},
     "output_type": "execute_result"
    }
   ],
   "source": [
    "df.duplicated(subset=['Order ID','Date Key','Contact Name','Country','Customer ID','Product','License'], keep=False).sum()"
   ]
  },
  {
   "cell_type": "markdown",
   "metadata": {},
   "source": [
    "For the combination columns there is no duplicated data. \\\n",
    "We will also check corresponding between the related column"
   ]
  },
  {
   "cell_type": "code",
   "execution_count": 10,
   "metadata": {},
   "outputs": [
    {
     "name": "stdout",
     "output_type": "stream",
     "text": [
      "The 'Customer' column corresponds to the 'Customer ID' column\n"
     ]
    }
   ],
   "source": [
    "cust_vs_custid = \"The 'Customer' column corresponds to the 'Customer ID' column\" if len(df['Customer'].unique())==len(df['Customer ID'].unique()) else \"The 'Customer' column doesn't correspond to the 'Customer ID' column\"\n",
    "print(cust_vs_custid)"
   ]
  },
  {
   "cell_type": "code",
   "execution_count": 11,
   "metadata": {},
   "outputs": [
    {
     "name": "stdout",
     "output_type": "stream",
     "text": [
      "The 'Product' column doesn't correspond to the 'License' column\n"
     ]
    }
   ],
   "source": [
    "product_vs_license = \"The 'Product' column corresponds to the 'License' column\" if len(df['Product'].unique())==len(df['License'].unique()) else \"The 'Product' column doesn't correspond to the 'License' column\"\n",
    "print(product_vs_license)"
   ]
  },
  {
   "cell_type": "markdown",
   "metadata": {},
   "source": [
    "For the 'Customer' and 'Customer ID' is already corresponding\\\n",
    "and the number of data for the 'Product' and 'License' is differen. It means that the are products that have more than 1 License.\\\n",
    "\\\n",
    "Next, we will check the number of outlier of the column ('Profit','Sales','Discount','Quantity')"
   ]
  },
  {
   "cell_type": "code",
   "execution_count": 12,
   "metadata": {},
   "outputs": [],
   "source": [
    "def outlier_analysis(data_):\n",
    "    Q1 = data_.quantile(0.25)\n",
    "    Q3 = data_.quantile(0.75)\n",
    "    IQR= Q3-Q1\n",
    "\n",
    "    lb = Q1-1.5*IQR\n",
    "    ub = Q3+1.5*IQR\n",
    "\n",
    "    return lb,ub"
   ]
  },
  {
   "cell_type": "code",
   "execution_count": 13,
   "metadata": {},
   "outputs": [
    {
     "data": {
      "text/html": [
       "<div>\n",
       "<style scoped>\n",
       "    .dataframe tbody tr th:only-of-type {\n",
       "        vertical-align: middle;\n",
       "    }\n",
       "\n",
       "    .dataframe tbody tr th {\n",
       "        vertical-align: top;\n",
       "    }\n",
       "\n",
       "    .dataframe thead th {\n",
       "        text-align: right;\n",
       "    }\n",
       "</style>\n",
       "<table border=\"1\" class=\"dataframe\">\n",
       "  <thead>\n",
       "    <tr style=\"text-align: right;\">\n",
       "      <th></th>\n",
       "      <th>Quantity</th>\n",
       "      <th>Profit</th>\n",
       "      <th>Sales</th>\n",
       "      <th>Discount</th>\n",
       "    </tr>\n",
       "  </thead>\n",
       "  <tbody>\n",
       "    <tr>\n",
       "      <th>Number of Outlier</th>\n",
       "      <td>170</td>\n",
       "      <td>1881</td>\n",
       "      <td>1167</td>\n",
       "      <td>856</td>\n",
       "    </tr>\n",
       "  </tbody>\n",
       "</table>\n",
       "</div>"
      ],
      "text/plain": [
       "                   Quantity  Profit  Sales  Discount\n",
       "Number of Outlier       170    1881   1167       856"
      ]
     },
     "execution_count": 13,
     "metadata": {},
     "output_type": "execute_result"
    }
   ],
   "source": [
    "col_outlier = ['Quantity','Profit','Sales','Discount']\n",
    "num_outlier = [df[(df[columns] < outlier_analysis(df[columns])[0]) | (df[columns] > outlier_analysis(df[columns])[1])].shape[0] for columns in col_outlier]\n",
    "pd.DataFrame([num_outlier], columns=col_outlier, index=['Number of Outlier'])"
   ]
  },
  {
   "cell_type": "code",
   "execution_count": 14,
   "metadata": {},
   "outputs": [
    {
     "data": {
      "text/html": [
       "<div>\n",
       "<style scoped>\n",
       "    .dataframe tbody tr th:only-of-type {\n",
       "        vertical-align: middle;\n",
       "    }\n",
       "\n",
       "    .dataframe tbody tr th {\n",
       "        vertical-align: top;\n",
       "    }\n",
       "\n",
       "    .dataframe thead th {\n",
       "        text-align: right;\n",
       "    }\n",
       "</style>\n",
       "<table border=\"1\" class=\"dataframe\">\n",
       "  <thead>\n",
       "    <tr style=\"text-align: right;\">\n",
       "      <th></th>\n",
       "      <th>Quantity</th>\n",
       "      <th>Profit</th>\n",
       "      <th>Sales</th>\n",
       "      <th>Discount</th>\n",
       "    </tr>\n",
       "  </thead>\n",
       "  <tbody>\n",
       "    <tr>\n",
       "      <th>count</th>\n",
       "      <td>9994.000000</td>\n",
       "      <td>9994.000000</td>\n",
       "      <td>9994.000000</td>\n",
       "      <td>9994.000000</td>\n",
       "    </tr>\n",
       "    <tr>\n",
       "      <th>mean</th>\n",
       "      <td>3.789574</td>\n",
       "      <td>28.656896</td>\n",
       "      <td>229.858001</td>\n",
       "      <td>0.156203</td>\n",
       "    </tr>\n",
       "    <tr>\n",
       "      <th>std</th>\n",
       "      <td>2.225110</td>\n",
       "      <td>234.260108</td>\n",
       "      <td>623.245101</td>\n",
       "      <td>0.206452</td>\n",
       "    </tr>\n",
       "    <tr>\n",
       "      <th>min</th>\n",
       "      <td>1.000000</td>\n",
       "      <td>-6599.978000</td>\n",
       "      <td>0.444000</td>\n",
       "      <td>0.000000</td>\n",
       "    </tr>\n",
       "    <tr>\n",
       "      <th>25%</th>\n",
       "      <td>2.000000</td>\n",
       "      <td>1.728750</td>\n",
       "      <td>17.280000</td>\n",
       "      <td>0.000000</td>\n",
       "    </tr>\n",
       "    <tr>\n",
       "      <th>50%</th>\n",
       "      <td>3.000000</td>\n",
       "      <td>8.666500</td>\n",
       "      <td>54.490000</td>\n",
       "      <td>0.200000</td>\n",
       "    </tr>\n",
       "    <tr>\n",
       "      <th>75%</th>\n",
       "      <td>5.000000</td>\n",
       "      <td>29.364000</td>\n",
       "      <td>209.940000</td>\n",
       "      <td>0.200000</td>\n",
       "    </tr>\n",
       "    <tr>\n",
       "      <th>max</th>\n",
       "      <td>14.000000</td>\n",
       "      <td>8399.976000</td>\n",
       "      <td>22638.480000</td>\n",
       "      <td>0.800000</td>\n",
       "    </tr>\n",
       "  </tbody>\n",
       "</table>\n",
       "</div>"
      ],
      "text/plain": [
       "          Quantity       Profit         Sales     Discount\n",
       "count  9994.000000  9994.000000   9994.000000  9994.000000\n",
       "mean      3.789574    28.656896    229.858001     0.156203\n",
       "std       2.225110   234.260108    623.245101     0.206452\n",
       "min       1.000000 -6599.978000      0.444000     0.000000\n",
       "25%       2.000000     1.728750     17.280000     0.000000\n",
       "50%       3.000000     8.666500     54.490000     0.200000\n",
       "75%       5.000000    29.364000    209.940000     0.200000\n",
       "max      14.000000  8399.976000  22638.480000     0.800000"
      ]
     },
     "execution_count": 14,
     "metadata": {},
     "output_type": "execute_result"
    }
   ],
   "source": [
    "df[['Quantity','Profit','Sales','Discount']].describe()"
   ]
  },
  {
   "cell_type": "markdown",
   "metadata": {},
   "source": [
    "For the quantity column, the number of outliers is only 170 out of a total of 9994 data points, with a minimum value of 1 and a maximum of 14. Therefore, the outliers are not highly significant.\n",
    "\n",
    "The average discount (0.156) compared to the maximum value (0.8) indicates that most transactions do not have a large discount; however, there are a few transactions with significant discounts. Retaining these outliers is important to identify extreme discount policies.\n",
    "\n",
    "So, for these two columns, we will leave them as they are without removing, altering, or transforming the values."
   ]
  },
  {
   "cell_type": "markdown",
   "metadata": {},
   "source": [
    "For the profit column, there are 1,881 outliers out of 9,994 data points (about 18.8%). This is a significant portion, making it impractical to simply remove these outliers. From the descriptive statistics, we can see that the minimum value is -6,599.978 and the maximum is 8,399.976, with a standard deviation of 234.260108 and an average of 28.656896. This indicates extreme variations in profit values, so we will apply the winsorizing method.\n",
    "\n",
    "Winsorizing is a statistical technique that limits extreme values in data by setting outliers to a specific percentile value, such as the 1st and 99th percentiles. This approach helps reduce the influence of extreme values while preserving the overall distribution."
   ]
  },
  {
   "cell_type": "code",
   "execution_count": 15,
   "metadata": {},
   "outputs": [],
   "source": [
    "df['Profit_winsorized'] = stats.mstats.winsorize(df['Profit'], limits=[0.005, 0.005])"
   ]
  },
  {
   "cell_type": "code",
   "execution_count": 16,
   "metadata": {},
   "outputs": [
    {
     "data": {
      "text/html": [
       "<div>\n",
       "<style scoped>\n",
       "    .dataframe tbody tr th:only-of-type {\n",
       "        vertical-align: middle;\n",
       "    }\n",
       "\n",
       "    .dataframe tbody tr th {\n",
       "        vertical-align: top;\n",
       "    }\n",
       "\n",
       "    .dataframe thead th {\n",
       "        text-align: right;\n",
       "    }\n",
       "</style>\n",
       "<table border=\"1\" class=\"dataframe\">\n",
       "  <thead>\n",
       "    <tr style=\"text-align: right;\">\n",
       "      <th></th>\n",
       "      <th>Profit</th>\n",
       "      <th>Profit_winsorized</th>\n",
       "    </tr>\n",
       "  </thead>\n",
       "  <tbody>\n",
       "    <tr>\n",
       "      <th>count</th>\n",
       "      <td>9994.000000</td>\n",
       "      <td>9994.000000</td>\n",
       "    </tr>\n",
       "    <tr>\n",
       "      <th>mean</th>\n",
       "      <td>28.656896</td>\n",
       "      <td>26.873121</td>\n",
       "    </tr>\n",
       "    <tr>\n",
       "      <th>std</th>\n",
       "      <td>234.260108</td>\n",
       "      <td>114.835418</td>\n",
       "    </tr>\n",
       "    <tr>\n",
       "      <th>min</th>\n",
       "      <td>-6599.978000</td>\n",
       "      <td>-509.997000</td>\n",
       "    </tr>\n",
       "    <tr>\n",
       "      <th>25%</th>\n",
       "      <td>1.728750</td>\n",
       "      <td>1.728750</td>\n",
       "    </tr>\n",
       "    <tr>\n",
       "      <th>50%</th>\n",
       "      <td>8.666500</td>\n",
       "      <td>8.666500</td>\n",
       "    </tr>\n",
       "    <tr>\n",
       "      <th>75%</th>\n",
       "      <td>29.364000</td>\n",
       "      <td>29.364000</td>\n",
       "    </tr>\n",
       "    <tr>\n",
       "      <th>max</th>\n",
       "      <td>8399.976000</td>\n",
       "      <td>843.170600</td>\n",
       "    </tr>\n",
       "  </tbody>\n",
       "</table>\n",
       "</div>"
      ],
      "text/plain": [
       "            Profit  Profit_winsorized\n",
       "count  9994.000000        9994.000000\n",
       "mean     28.656896          26.873121\n",
       "std     234.260108         114.835418\n",
       "min   -6599.978000        -509.997000\n",
       "25%       1.728750           1.728750\n",
       "50%       8.666500           8.666500\n",
       "75%      29.364000          29.364000\n",
       "max    8399.976000         843.170600"
      ]
     },
     "execution_count": 16,
     "metadata": {},
     "output_type": "execute_result"
    }
   ],
   "source": [
    "df[['Profit','Profit_winsorized']].describe()"
   ]
  },
  {
   "cell_type": "markdown",
   "metadata": {},
   "source": [
    "After applying winsorizing, the minimum, maximum, and standard deviation values decreased significantly, making the data less variable without the need to remove outliers."
   ]
  },
  {
   "cell_type": "markdown",
   "metadata": {},
   "source": [
    "For the Sales column, however, we will not apply winsorizing. Although there are 1,167 outliers in Sales, representing approximately 11.7% of the data, these outliers provide valuable insights into high-volume transactions that could be critical for understanding revenue patterns, such as large orders or seasonal spikes. The high variability in Sales reflects the natural diversity in transaction sizes, which we want to retain for analyses focused on sales trends, customer behavior, and promotional impacts. Winsorizing in this case could mask important information about significant sales events. So, we will no change this data."
   ]
  },
  {
   "cell_type": "markdown",
   "metadata": {},
   "source": [
    "## Exploratory Data Analyzing\n",
    "\n",
    "In this data analysis, we aim to understand the various factors affecting profitability and risk in the business. The primary goal of Exploratory Data Analysis (EDA) is to gain deep insights into the available data. Through EDA, we can identify patterns, trends, and anomalies that can contribute to better decision-making."
   ]
  },
  {
   "cell_type": "markdown",
   "metadata": {},
   "source": [
    "First, we will show  the general information from the data"
   ]
  },
  {
   "cell_type": "code",
   "execution_count": 17,
   "metadata": {},
   "outputs": [
    {
     "data": {
      "text/plain": [
       "2297200.8603000003"
      ]
     },
     "execution_count": 17,
     "metadata": {},
     "output_type": "execute_result"
    }
   ],
   "source": [
    "Total_Sales = df['Sales'].sum()\n",
    "Total_Sales"
   ]
  },
  {
   "cell_type": "code",
   "execution_count": 18,
   "metadata": {},
   "outputs": [
    {
     "data": {
      "text/plain": [
       "286397.0217"
      ]
     },
     "execution_count": 18,
     "metadata": {},
     "output_type": "execute_result"
    }
   ],
   "source": [
    "Total_Profit = df['Profit'].sum()\n",
    "Total_Profit"
   ]
  },
  {
   "cell_type": "code",
   "execution_count": 19,
   "metadata": {},
   "outputs": [
    {
     "name": "stdout",
     "output_type": "stream",
     "text": [
      "12.47 %\n"
     ]
    }
   ],
   "source": [
    "Percentage_profit = round((Total_Profit*100/Total_Sales),2)\n",
    "print(Percentage_profit,'%')"
   ]
  },
  {
   "cell_type": "code",
   "execution_count": 20,
   "metadata": {},
   "outputs": [
    {
     "data": {
      "text/plain": [
       "5009"
      ]
     },
     "execution_count": 20,
     "metadata": {},
     "output_type": "execute_result"
    }
   ],
   "source": [
    "Total_order_id = df['Order ID'].nunique()\n",
    "Total_order_id"
   ]
  },
  {
   "cell_type": "code",
   "execution_count": 21,
   "metadata": {},
   "outputs": [],
   "source": [
    "df['Month'] = df['Order Date'].dt.to_period('M')\n",
    "monthly_sales = df.groupby('Month')['Sales'].sum().reset_index()\n",
    "monthly_sales['Month'] = monthly_sales['Month'].dt.to_timestamp() "
   ]
  },
  {
   "cell_type": "code",
   "execution_count": 22,
   "metadata": {},
   "outputs": [
    {
     "data": {
      "image/png": "[encoded data removed]",
      "text/plain": [
       "<Figure size 720x432 with 1 Axes>"
      ]
     },
     "metadata": {
      "needs_background": "light"
     },
     "output_type": "display_data"
    }
   ],
   "source": [
    "plt.figure(figsize=(10, 6))\n",
    "plt.plot(monthly_sales['Month'], monthly_sales['Sales'], marker='o', linestyle='-', color='b', label='Total Sales')\n",
    "\n",
    "z = np.polyfit(range(len(monthly_sales['Sales'])), monthly_sales['Sales'], 1)\n",
    "p = np.poly1d(z)\n",
    "plt.plot(monthly_sales['Month'], p(range(len(monthly_sales['Sales']))), linestyle='--', color='r', label='Trend Line')\n",
    "\n",
    "plt.title('Trend Line Total Sales per Month')\n",
    "plt.xlabel('Month')\n",
    "plt.ylabel('Total Sales')\n",
    "plt.legend()\n",
    "plt.grid()\n",
    "\n",
    "# Menampilkan plot\n",
    "plt.show()"
   ]
  },
  {
   "cell_type": "markdown",
   "metadata": {},
   "source": [
    "Based on the chart, sales performance has increased over time, even though the trend is still fluctuating."
   ]
  },
  {
   "cell_type": "code",
   "execution_count": 23,
   "metadata": {},
   "outputs": [
    {
     "data": {
      "text/html": [
       "<div>\n",
       "<style scoped>\n",
       "    .dataframe tbody tr th:only-of-type {\n",
       "        vertical-align: middle;\n",
       "    }\n",
       "\n",
       "    .dataframe tbody tr th {\n",
       "        vertical-align: top;\n",
       "    }\n",
       "\n",
       "    .dataframe thead th {\n",
       "        text-align: right;\n",
       "    }\n",
       "</style>\n",
       "<table border=\"1\" class=\"dataframe\">\n",
       "  <thead>\n",
       "    <tr style=\"text-align: right;\">\n",
       "      <th></th>\n",
       "      <th>Customer</th>\n",
       "      <th>Sales</th>\n",
       "    </tr>\n",
       "  </thead>\n",
       "  <tbody>\n",
       "    <tr>\n",
       "      <th>0</th>\n",
       "      <td>Anthem</td>\n",
       "      <td>55719.2100</td>\n",
       "    </tr>\n",
       "    <tr>\n",
       "      <th>1</th>\n",
       "      <td>Ford Motor</td>\n",
       "      <td>43893.0424</td>\n",
       "    </tr>\n",
       "    <tr>\n",
       "      <th>2</th>\n",
       "      <td>Allianz</td>\n",
       "      <td>42904.1670</td>\n",
       "    </tr>\n",
       "    <tr>\n",
       "      <th>3</th>\n",
       "      <td>Bank of America Corp.</td>\n",
       "      <td>41255.9471</td>\n",
       "    </tr>\n",
       "    <tr>\n",
       "      <th>4</th>\n",
       "      <td>Valero Energy</td>\n",
       "      <td>41220.4188</td>\n",
       "    </tr>\n",
       "    <tr>\n",
       "      <th>5</th>\n",
       "      <td>Lowes</td>\n",
       "      <td>40360.1630</td>\n",
       "    </tr>\n",
       "    <tr>\n",
       "      <th>6</th>\n",
       "      <td>Tyson Foods</td>\n",
       "      <td>40326.3440</td>\n",
       "    </tr>\n",
       "    <tr>\n",
       "      <th>7</th>\n",
       "      <td>Allstate</td>\n",
       "      <td>39941.6400</td>\n",
       "    </tr>\n",
       "    <tr>\n",
       "      <th>8</th>\n",
       "      <td>AmerisourceBergen</td>\n",
       "      <td>39234.7610</td>\n",
       "    </tr>\n",
       "    <tr>\n",
       "      <th>9</th>\n",
       "      <td>BMW</td>\n",
       "      <td>39083.7900</td>\n",
       "    </tr>\n",
       "  </tbody>\n",
       "</table>\n",
       "</div>"
      ],
      "text/plain": [
       "                Customer       Sales\n",
       "0                 Anthem  55719.2100\n",
       "1             Ford Motor  43893.0424\n",
       "2                Allianz  42904.1670\n",
       "3  Bank of America Corp.  41255.9471\n",
       "4          Valero Energy  41220.4188\n",
       "5                  Lowes  40360.1630\n",
       "6            Tyson Foods  40326.3440\n",
       "7               Allstate  39941.6400\n",
       "8      AmerisourceBergen  39234.7610\n",
       "9                    BMW  39083.7900"
      ]
     },
     "execution_count": 23,
     "metadata": {},
     "output_type": "execute_result"
    }
   ],
   "source": [
    "customer_sales = df.groupby('Customer')['Sales'].sum().sort_values(ascending=False).reset_index()\n",
    "customer_sales.head(10)"
   ]
  },
  {
   "cell_type": "code",
   "execution_count": 24,
   "metadata": {},
   "outputs": [
    {
     "data": {
      "image/png": "[encoded data removed]",
      "text/plain": [
       "<Figure size 720x432 with 1 Axes>"
      ]
     },
     "metadata": {
      "needs_background": "light"
     },
     "output_type": "display_data"
    }
   ],
   "source": [
    "top_customers = customer_sales.head(10)\n",
    "\n",
    "plt.figure(figsize=(10, 6))\n",
    "plt.barh(top_customers['Customer'], top_customers['Sales'], color='skyblue')\n",
    "plt.xlabel('Total Sales')\n",
    "plt.ylabel('Customer')\n",
    "plt.title('Top 10 Customers by Total Sales')\n",
    "plt.gca().invert_yaxis()\n",
    "plt.show()"
   ]
  },
  {
   "cell_type": "markdown",
   "metadata": {},
   "source": [
    "We also highlight the top 10 customers by total sales to emphasize the importance of maintaining strong relationships with these key clients. Focusing on these high-value customers can help ensure consistent revenue and foster customer loyalty over time."
   ]
  },
  {
   "cell_type": "markdown",
   "metadata": {},
   "source": [
    "Next,  for numerical data, we will check do the column 'Profit', 'Profit_winsorized', 'Sales', 'Quantity' and 'Discount' follow normal distribution or not. "
   ]
  },
  {
   "cell_type": "markdown",
   "metadata": {},
   "source": [
    "* Profit "
   ]
  },
  {
   "cell_type": "code",
   "execution_count": 25,
   "metadata": {},
   "outputs": [
    {
     "data": {
      "image/png": "[encoded data removed]",
      "text/plain": [
       "<Figure size 432x288 with 1 Axes>"
      ]
     },
     "metadata": {
      "needs_background": "light"
     },
     "output_type": "display_data"
    }
   ],
   "source": [
    "sns.histplot(df['Profit'] , bins=100)\n",
    "plt.xlabel('Nilai')\n",
    "plt.ylabel('Frekuensi')\n",
    "plt.title('Distribusi Data')\n",
    "plt.show()"
   ]
  },
  {
   "cell_type": "code",
   "execution_count": 26,
   "metadata": {},
   "outputs": [
    {
     "name": "stdout",
     "output_type": "stream",
     "text": [
      "D’Agostino’s K-squared Test Statistic: 14363.736243749532\n",
      "p-value: 0.0\n",
      "The data does not follow a normal distribution (reject H0)\n"
     ]
    }
   ],
   "source": [
    "stat, p_value = stats.normaltest(df['Profit'])\n",
    "print(\"D’Agostino’s K-squared Test Statistic:\", stat)\n",
    "print(\"p-value:\", p_value)\n",
    "\n",
    "alpha = 0.05\n",
    "if p_value > alpha:\n",
    "    print(\"The data appears to follow a normal distribution (fail to reject H0)\")\n",
    "else:\n",
    "    print(\"The data does not follow a normal distribution (reject H0)\")"
   ]
  },
  {
   "cell_type": "markdown",
   "metadata": {},
   "source": [
    "* Profit_winsorized"
   ]
  },
  {
   "cell_type": "code",
   "execution_count": 27,
   "metadata": {},
   "outputs": [
    {
     "data": {
      "image/png": "[encoded data removed]",
      "text/plain": [
       "<Figure size 432x288 with 1 Axes>"
      ]
     },
     "metadata": {
      "needs_background": "light"
     },
     "output_type": "display_data"
    }
   ],
   "source": [
    "sns.histplot(df['Profit_winsorized'] , bins=100)\n",
    "plt.xlabel('Nilai')\n",
    "plt.ylabel('Frekuensi')\n",
    "plt.title('Distribusi Data')\n",
    "plt.show()"
   ]
  },
  {
   "cell_type": "code",
   "execution_count": 28,
   "metadata": {},
   "outputs": [
    {
     "name": "stdout",
     "output_type": "stream",
     "text": [
      "D’Agostino’s K-squared Test Statistic: 6455.7344743501835\n",
      "p-value: 0.0\n",
      "The data does not follow a normal distribution (reject H0)\n"
     ]
    }
   ],
   "source": [
    "stat, p_value = stats.normaltest(df['Profit_winsorized'])\n",
    "print(\"D’Agostino’s K-squared Test Statistic:\", stat)\n",
    "print(\"p-value:\", p_value)\n",
    "\n",
    "alpha = 0.05\n",
    "if p_value > alpha:\n",
    "    print(\"The data appears to follow a normal distribution (fail to reject H0)\")\n",
    "else:\n",
    "    print(\"The data does not follow a normal distribution (reject H0)\")"
   ]
  },
  {
   "cell_type": "markdown",
   "metadata": {},
   "source": [
    "* Sales"
   ]
  },
  {
   "cell_type": "code",
   "execution_count": 29,
   "metadata": {},
   "outputs": [
    {
     "data": {
      "image/png": "[encoded data removed]",
      "text/plain": [
       "<Figure size 432x288 with 1 Axes>"
      ]
     },
     "metadata": {
      "needs_background": "light"
     },
     "output_type": "display_data"
    }
   ],
   "source": [
    "sns.histplot(df['Sales'] , bins=100)\n",
    "plt.xlabel('Nilai')\n",
    "plt.ylabel('Frekuensi')\n",
    "plt.title('Distribusi Data')\n",
    "plt.show()"
   ]
  },
  {
   "cell_type": "code",
   "execution_count": 30,
   "metadata": {},
   "outputs": [
    {
     "name": "stdout",
     "output_type": "stream",
     "text": [
      "D’Agostino’s K-squared Test Statistic: 18033.30849753588\n",
      "p-value: 0.0\n",
      "The data does not follow a normal distribution (reject H0)\n"
     ]
    }
   ],
   "source": [
    "stat, p_value = stats.normaltest(df['Sales'])\n",
    "print(\"D’Agostino’s K-squared Test Statistic:\", stat)\n",
    "print(\"p-value:\", p_value)\n",
    "\n",
    "alpha = 0.05\n",
    "if p_value > alpha:\n",
    "    print(\"The data appears to follow a normal distribution (fail to reject H0)\")\n",
    "else:\n",
    "    print(\"The data does not follow a normal distribution (reject H0)\")"
   ]
  },
  {
   "cell_type": "markdown",
   "metadata": {},
   "source": [
    "* Quantity"
   ]
  },
  {
   "cell_type": "code",
   "execution_count": 31,
   "metadata": {},
   "outputs": [
    {
     "data": {
      "image/png": "[encoded data removed]",
      "text/plain": [
       "<Figure size 432x288 with 1 Axes>"
      ]
     },
     "metadata": {
      "needs_background": "light"
     },
     "output_type": "display_data"
    }
   ],
   "source": [
    "sns.histplot(df['Quantity'])\n",
    "plt.xlabel('Nilai')\n",
    "plt.ylabel('Frekuensi')\n",
    "plt.title('Bar Chart of \\'Quantity\\'')\n",
    "plt.show()"
   ]
  },
  {
   "cell_type": "markdown",
   "metadata": {},
   "source": [
    "* Discount"
   ]
  },
  {
   "cell_type": "code",
   "execution_count": 32,
   "metadata": {},
   "outputs": [
    {
     "data": {
      "image/png": "[encoded data removed]",
      "text/plain": [
       "<Figure size 432x288 with 1 Axes>"
      ]
     },
     "metadata": {
      "needs_background": "light"
     },
     "output_type": "display_data"
    }
   ],
   "source": [
    "sns.histplot(df['Discount'])\n",
    "plt.xlabel('Nilai')\n",
    "plt.ylabel('Frekuensi')\n",
    "plt.title('Bar Chart of \\'Discount\\'')\n",
    "plt.show()"
   ]
  },
  {
   "cell_type": "markdown",
   "metadata": {},
   "source": [
    "For the Quantity and Discount column, we don't need to do normal test due to these data are disctrit data."
   ]
  },
  {
   "cell_type": "markdown",
   "metadata": {},
   "source": [
    "Based on the previous result, we will use non parametric test and use spearman for correlation due to the columns don't follow normal distribution."
   ]
  },
  {
   "cell_type": "code",
   "execution_count": 33,
   "metadata": {},
   "outputs": [],
   "source": [
    "#Correlation between 'Sales','Quantity','Discount','Profit_winsorized'\n",
    "correlation_matrix = df[['Sales','Quantity','Discount','Profit_winsorized']].corr(method='spearman')"
   ]
  },
  {
   "cell_type": "code",
   "execution_count": 34,
   "metadata": {},
   "outputs": [
    {
     "data": {
      "image/png": "[encoded data removed]",
      "text/plain": [
       "<Figure size 576x432 with 2 Axes>"
      ]
     },
     "metadata": {
      "needs_background": "light"
     },
     "output_type": "display_data"
    }
   ],
   "source": [
    "plt.figure(figsize=(8, 6))\n",
    "sns.heatmap(correlation_matrix, annot=True, cmap='coolwarm', fmt=\".2f\")\n",
    "plt.title('Correlation Heatmap')\n",
    "plt.show()"
   ]
  },
  {
   "cell_type": "markdown",
   "metadata": {},
   "source": [
    "From the heatmap above, we can see that 'Sales' has positive moderately correlated (0.52) with 'Profit_winsorized', but 'Discount' has negative moderately correlated (-0.54). While other correlation have no or small correlation. We will use these information (column 'Sales' and 'Discount') for analysis the profit."
   ]
  },
  {
   "cell_type": "markdown",
   "metadata": {},
   "source": [
    "Below, we present the distribution of sales data by region and subregion. Special attention should be given to regions and subregions with the highest contributions to total sales, while developing new strategies to boost sales in the lower-performing areas."
   ]
  },
  {
   "cell_type": "code",
   "execution_count": 35,
   "metadata": {},
   "outputs": [
    {
     "data": {
      "image/png": "[encoded data removed]",
      "text/plain": [
       "<Figure size 1296x1008 with 1 Axes>"
      ]
     },
     "metadata": {
      "needs_background": "light"
     },
     "output_type": "display_data"
    }
   ],
   "source": [
    "grouped_df = df.groupby(['Region', 'Subregion'])['Sales'].sum().reset_index()\n",
    "\n",
    "grouped_df['label'] = grouped_df.apply(lambda x: f\"{x['Region']}\\n{x['Subregion']}\\nSales: {x['Sales']:.2f}\", axis=1)\n",
    "\n",
    "plt.figure(figsize=(18, 14))\n",
    "squarify.plot(\n",
    "    sizes=grouped_df['Sales'],\n",
    "    label=grouped_df['label'],\n",
    "    alpha=0.6,\n",
    "    text_kwargs={'fontsize': 8}\n",
    ")\n",
    "plt.axis('off')\n",
    "plt.title(\"Treemap of Profit by Region and Subregion\")\n",
    "plt.show()\n"
   ]
  },
  {
   "cell_type": "markdown",
   "metadata": {},
   "source": [
    "Next, we present the distribution of sales by country. Similar to the previous analysis, this chart helps us focus on maintaining sales in high-impact countries to maximize overall performance."
   ]
  },
  {
   "cell_type": "code",
   "execution_count": 36,
   "metadata": {},
   "outputs": [
    {
     "data": {
      "application/vnd.plotly.v1+json": {
       "config": {
        "plotlyServerURL": "https://plot.ly"
       },
       "data": [
        {
         "hovertemplate": "<b>%{hovertext}</b><br><br>Country=Argentina<br>Number of Transactions=%{x}<br>Total Sales=%{marker.size}<extra></extra>",
         "hovertext": [
          "Argentina"
         ],
         "legendgroup": "Argentina",
         "marker": {
          "color": "#636efa",
          "size": [
           35764.312
          ],
          "sizemode": "area",
          "sizeref": 1144.21907875,
          "symbol": "circle"
         },
         "mode": "markers",
         "name": "Argentina",
         "orientation": "v",
         "showlegend": true,
         "type": "scatter",
         "x": [
          130
         ],
         "xaxis": "x",
         "y": [
          35764.312
         ],
         "yaxis": "y"
        },
        {
         "hovertemplate": "<b>%{hovertext}</b><br><br>Country=Australia<br>Number of Transactions=%{x}<br>Total Sales=%{marker.size}<extra></extra>",
         "hovertext": [
          "Australia"
         ],
         "legendgroup": "Australia",
         "marker": {
          "color": "#EF553B",
          "size": [
           80166.101
          ],
          "sizemode": "area",
          "sizeref": 1144.21907875,
          "symbol": "circle"
         },
         "mode": "markers",
         "name": "Australia",
         "orientation": "v",
         "showlegend": true,
         "type": "scatter",
         "x": [
          492
         ],
         "xaxis": "x",
         "y": [
          80166.101
         ],
         "yaxis": "y"
        },
        {
         "hovertemplate": "<b>%{hovertext}</b><br><br>Country=Austria<br>Number of Transactions=%{x}<br>Total Sales=%{marker.size}<extra></extra>",
         "hovertext": [
          "Austria"
         ],
         "legendgroup": "Austria",
         "marker": {
          "color": "#00cc96",
          "size": [
           2865.02
          ],
          "sizemode": "area",
          "sizeref": 1144.21907875,
          "symbol": "circle"
         },
         "mode": "markers",
         "name": "Austria",
         "orientation": "v",
         "showlegend": true,
         "type": "scatter",
         "x": [
          10
         ],
         "xaxis": "x",
         "y": [
          2865.02
         ],
         "yaxis": "y"
        },
        {
         "hovertemplate": "<b>%{hovertext}</b><br><br>Country=Belgium<br>Number of Transactions=%{x}<br>Total Sales=%{marker.size}<extra></extra>",
         "hovertext": [
          "Belgium"
         ],
         "legendgroup": "Belgium",
         "marker": {
          "color": "#ab63fa",
          "size": [
           17431.15
          ],
          "sizemode": "area",
          "sizeref": 1144.21907875,
          "symbol": "circle"
         },
         "mode": "markers",
         "name": "Belgium",
         "orientation": "v",
         "showlegend": true,
         "type": "scatter",
         "x": [
          124
         ],
         "xaxis": "x",
         "y": [
          17431.15
         ],
         "yaxis": "y"
        },
        {
         "hovertemplate": "<b>%{hovertext}</b><br><br>Country=Brazil<br>Number of Transactions=%{x}<br>Total Sales=%{marker.size}<extra></extra>",
         "hovertext": [
          "Brazil"
         ],
         "legendgroup": "Brazil",
         "marker": {
          "color": "#FFA15A",
          "size": [
           76269.614
          ],
          "sizemode": "area",
          "sizeref": 1144.21907875,
          "symbol": "circle"
         },
         "mode": "markers",
         "name": "Brazil",
         "orientation": "v",
         "showlegend": true,
         "type": "scatter",
         "x": [
          255
         ],
         "xaxis": "x",
         "y": [
          76269.614
         ],
         "yaxis": "y"
        },
        {
         "hovertemplate": "<b>%{hovertext}</b><br><br>Country=Canada<br>Number of Transactions=%{x}<br>Total Sales=%{marker.size}<extra></extra>",
         "hovertext": [
          "Canada"
         ],
         "legendgroup": "Canada",
         "marker": {
          "color": "#19d3f3",
          "size": [
           138641.27
          ],
          "sizemode": "area",
          "sizeref": 1144.21907875,
          "symbol": "circle"
         },
         "mode": "markers",
         "name": "Canada",
         "orientation": "v",
         "showlegend": true,
         "type": "scatter",
         "x": [
          506
         ],
         "xaxis": "x",
         "y": [
          138641.27
         ],
         "yaxis": "y"
        },
        {
         "hovertemplate": "<b>%{hovertext}</b><br><br>Country=Chile<br>Number of Transactions=%{x}<br>Total Sales=%{marker.size}<extra></extra>",
         "hovertext": [
          "Chile"
         ],
         "legendgroup": "Chile",
         "marker": {
          "color": "#FF6692",
          "size": [
           35282.001
          ],
          "sizemode": "area",
          "sizeref": 1144.21907875,
          "symbol": "circle"
         },
         "mode": "markers",
         "name": "Chile",
         "orientation": "v",
         "showlegend": true,
         "type": "scatter",
         "x": [
          224
         ],
         "xaxis": "x",
         "y": [
          35282.001
         ],
         "yaxis": "y"
        },
        {
         "hovertemplate": "<b>%{hovertext}</b><br><br>Country=China<br>Number of Transactions=%{x}<br>Total Sales=%{marker.size}<extra></extra>",
         "hovertext": [
          "China"
         ],
         "legendgroup": "China",
         "marker": {
          "color": "#B6E880",
          "size": [
           23705.523
          ],
          "sizemode": "area",
          "sizeref": 1144.21907875,
          "symbol": "circle"
         },
         "mode": "markers",
         "name": "China",
         "orientation": "v",
         "showlegend": true,
         "type": "scatter",
         "x": [
          105
         ],
         "xaxis": "x",
         "y": [
          23705.523
         ],
         "yaxis": "y"
        },
        {
         "hovertemplate": "<b>%{hovertext}</b><br><br>Country=Colombia<br>Number of Transactions=%{x}<br>Total Sales=%{marker.size}<extra></extra>",
         "hovertext": [
          "Colombia"
         ],
         "legendgroup": "Colombia",
         "marker": {
          "color": "#FF97FF",
          "size": [
           8481.71
          ],
          "sizemode": "area",
          "sizeref": 1144.21907875,
          "symbol": "circle"
         },
         "mode": "markers",
         "name": "Colombia",
         "orientation": "v",
         "showlegend": true,
         "type": "scatter",
         "x": [
          42
         ],
         "xaxis": "x",
         "y": [
          8481.71
         ],
         "yaxis": "y"
        },
        {
         "hovertemplate": "<b>%{hovertext}</b><br><br>Country=Costa Rica<br>Number of Transactions=%{x}<br>Total Sales=%{marker.size}<extra></extra>",
         "hovertext": [
          "Costa Rica"
         ],
         "legendgroup": "Costa Rica",
         "marker": {
          "color": "#FECB52",
          "size": [
           7464.93
          ],
          "sizemode": "area",
          "sizeref": 1144.21907875,
          "symbol": "circle"
         },
         "mode": "markers",
         "name": "Costa Rica",
         "orientation": "v",
         "showlegend": true,
         "type": "scatter",
         "x": [
          38
         ],
         "xaxis": "x",
         "y": [
          7464.93
         ],
         "yaxis": "y"
        },
        {
         "hovertemplate": "<b>%{hovertext}</b><br><br>Country=Croatia<br>Number of Transactions=%{x}<br>Total Sales=%{marker.size}<extra></extra>",
         "hovertext": [
          "Croatia"
         ],
         "legendgroup": "Croatia",
         "marker": {
          "color": "#636efa",
          "size": [
           1315.56
          ],
          "sizemode": "area",
          "sizeref": 1144.21907875,
          "symbol": "circle"
         },
         "mode": "markers",
         "name": "Croatia",
         "orientation": "v",
         "showlegend": true,
         "type": "scatter",
         "x": [
          12
         ],
         "xaxis": "x",
         "y": [
          1315.56
         ],
         "yaxis": "y"
        },
        {
         "hovertemplate": "<b>%{hovertext}</b><br><br>Country=Czech Republic<br>Number of Transactions=%{x}<br>Total Sales=%{marker.size}<extra></extra>",
         "hovertext": [
          "Czech Republic"
         ],
         "legendgroup": "Czech Republic",
         "marker": {
          "color": "#EF553B",
          "size": [
           9217.03
          ],
          "sizemode": "area",
          "sizeref": 1144.21907875,
          "symbol": "circle"
         },
         "mode": "markers",
         "name": "Czech Republic",
         "orientation": "v",
         "showlegend": true,
         "type": "scatter",
         "x": [
          42
         ],
         "xaxis": "x",
         "y": [
          9217.03
         ],
         "yaxis": "y"
        },
        {
         "hovertemplate": "<b>%{hovertext}</b><br><br>Country=Denmark<br>Number of Transactions=%{x}<br>Total Sales=%{marker.size}<extra></extra>",
         "hovertext": [
          "Denmark"
         ],
         "legendgroup": "Denmark",
         "marker": {
          "color": "#00cc96",
          "size": [
           1270.53
          ],
          "sizemode": "area",
          "sizeref": 1144.21907875,
          "symbol": "circle"
         },
         "mode": "markers",
         "name": "Denmark",
         "orientation": "v",
         "showlegend": true,
         "type": "scatter",
         "x": [
          8
         ],
         "xaxis": "x",
         "y": [
          1270.53
         ],
         "yaxis": "y"
        },
        {
         "hovertemplate": "<b>%{hovertext}</b><br><br>Country=Egypt<br>Number of Transactions=%{x}<br>Total Sales=%{marker.size}<extra></extra>",
         "hovertext": [
          "Egypt"
         ],
         "legendgroup": "Egypt",
         "marker": {
          "color": "#ab63fa",
          "size": [
           8929.369999999999
          ],
          "sizemode": "area",
          "sizeref": 1144.21907875,
          "symbol": "circle"
         },
         "mode": "markers",
         "name": "Egypt",
         "orientation": "v",
         "showlegend": true,
         "type": "scatter",
         "x": [
          11
         ],
         "xaxis": "x",
         "y": [
          8929.369999999999
         ],
         "yaxis": "y"
        },
        {
         "hovertemplate": "<b>%{hovertext}</b><br><br>Country=Finland<br>Number of Transactions=%{x}<br>Total Sales=%{marker.size}<extra></extra>",
         "hovertext": [
          "Finland"
         ],
         "legendgroup": "Finland",
         "marker": {
          "color": "#FFA15A",
          "size": [
           49095.84
          ],
          "sizemode": "area",
          "sizeref": 1144.21907875,
          "symbol": "circle"
         },
         "mode": "markers",
         "name": "Finland",
         "orientation": "v",
         "showlegend": true,
         "type": "scatter",
         "x": [
          184
         ],
         "xaxis": "x",
         "y": [
          49095.84
         ],
         "yaxis": "y"
        },
        {
         "hovertemplate": "<b>%{hovertext}</b><br><br>Country=France<br>Number of Transactions=%{x}<br>Total Sales=%{marker.size}<extra></extra>",
         "hovertext": [
          "France"
         ],
         "legendgroup": "France",
         "marker": {
          "color": "#19d3f3",
          "size": [
           116511.914
          ],
          "sizemode": "area",
          "sizeref": 1144.21907875,
          "symbol": "circle"
         },
         "mode": "markers",
         "name": "France",
         "orientation": "v",
         "showlegend": true,
         "type": "scatter",
         "x": [
          587
         ],
         "xaxis": "x",
         "y": [
          116511.914
         ],
         "yaxis": "y"
        },
        {
         "hovertemplate": "<b>%{hovertext}</b><br><br>Country=Germany<br>Number of Transactions=%{x}<br>Total Sales=%{marker.size}<extra></extra>",
         "hovertext": [
          "Germany"
         ],
         "legendgroup": "Germany",
         "marker": {
          "color": "#FF6692",
          "size": [
           89473.708
          ],
          "sizemode": "area",
          "sizeref": 1144.21907875,
          "symbol": "circle"
         },
         "mode": "markers",
         "name": "Germany",
         "orientation": "v",
         "showlegend": true,
         "type": "scatter",
         "x": [
          383
         ],
         "xaxis": "x",
         "y": [
          89473.708
         ],
         "yaxis": "y"
        },
        {
         "hovertemplate": "<b>%{hovertext}</b><br><br>Country=Greece<br>Number of Transactions=%{x}<br>Total Sales=%{marker.size}<extra></extra>",
         "hovertext": [
          "Greece"
         ],
         "legendgroup": "Greece",
         "marker": {
          "color": "#B6E880",
          "size": [
           7292.524
          ],
          "sizemode": "area",
          "sizeref": 1144.21907875,
          "symbol": "circle"
         },
         "mode": "markers",
         "name": "Greece",
         "orientation": "v",
         "showlegend": true,
         "type": "scatter",
         "x": [
          27
         ],
         "xaxis": "x",
         "y": [
          7292.524
         ],
         "yaxis": "y"
        },
        {
         "hovertemplate": "<b>%{hovertext}</b><br><br>Country=Iceland<br>Number of Transactions=%{x}<br>Total Sales=%{marker.size}<extra></extra>",
         "hovertext": [
          "Iceland"
         ],
         "legendgroup": "Iceland",
         "marker": {
          "color": "#FF97FF",
          "size": [
           1209.824
          ],
          "sizemode": "area",
          "sizeref": 1144.21907875,
          "symbol": "circle"
         },
         "mode": "markers",
         "name": "Iceland",
         "orientation": "v",
         "showlegend": true,
         "type": "scatter",
         "x": [
          4
         ],
         "xaxis": "x",
         "y": [
          1209.824
         ],
         "yaxis": "y"
        },
        {
         "hovertemplate": "<b>%{hovertext}</b><br><br>Country=India<br>Number of Transactions=%{x}<br>Total Sales=%{marker.size}<extra></extra>",
         "hovertext": [
          "India"
         ],
         "legendgroup": "India",
         "marker": {
          "color": "#FECB52",
          "size": [
           53555.36
          ],
          "sizemode": "area",
          "sizeref": 1144.21907875,
          "symbol": "circle"
         },
         "mode": "markers",
         "name": "India",
         "orientation": "v",
         "showlegend": true,
         "type": "scatter",
         "x": [
          149
         ],
         "xaxis": "x",
         "y": [
          53555.36
         ],
         "yaxis": "y"
        },
        {
         "hovertemplate": "<b>%{hovertext}</b><br><br>Country=Indonesia<br>Number of Transactions=%{x}<br>Total Sales=%{marker.size}<extra></extra>",
         "hovertext": [
          "Indonesia"
         ],
         "legendgroup": "Indonesia",
         "marker": {
          "color": "#636efa",
          "size": [
           2914.31
          ],
          "sizemode": "area",
          "sizeref": 1144.21907875,
          "symbol": "circle"
         },
         "mode": "markers",
         "name": "Indonesia",
         "orientation": "v",
         "showlegend": true,
         "type": "scatter",
         "x": [
          24
         ],
         "xaxis": "x",
         "y": [
          2914.31
         ],
         "yaxis": "y"
        },
        {
         "hovertemplate": "<b>%{hovertext}</b><br><br>Country=Ireland<br>Number of Transactions=%{x}<br>Total Sales=%{marker.size}<extra></extra>",
         "hovertext": [
          "Ireland"
         ],
         "legendgroup": "Ireland",
         "marker": {
          "color": "#EF553B",
          "size": [
           34298.14
          ],
          "sizemode": "area",
          "sizeref": 1144.21907875,
          "symbol": "circle"
         },
         "mode": "markers",
         "name": "Ireland",
         "orientation": "v",
         "showlegend": true,
         "type": "scatter",
         "x": [
          126
         ],
         "xaxis": "x",
         "y": [
          34298.14
         ],
         "yaxis": "y"
        },
        {
         "hovertemplate": "<b>%{hovertext}</b><br><br>Country=Israel<br>Number of Transactions=%{x}<br>Total Sales=%{marker.size}<extra></extra>",
         "hovertext": [
          "Israel"
         ],
         "legendgroup": "Israel",
         "marker": {
          "color": "#00cc96",
          "size": [
           16729.102
          ],
          "sizemode": "area",
          "sizeref": 1144.21907875,
          "symbol": "circle"
         },
         "mode": "markers",
         "name": "Israel",
         "orientation": "v",
         "showlegend": true,
         "type": "scatter",
         "x": [
          39
         ],
         "xaxis": "x",
         "y": [
          16729.102
         ],
         "yaxis": "y"
        },
        {
         "hovertemplate": "<b>%{hovertext}</b><br><br>Country=Italy<br>Number of Transactions=%{x}<br>Total Sales=%{marker.size}<extra></extra>",
         "hovertext": [
          "Italy"
         ],
         "legendgroup": "Italy",
         "marker": {
          "color": "#ab63fa",
          "size": [
           32114.61
          ],
          "sizemode": "area",
          "sizeref": 1144.21907875,
          "symbol": "circle"
         },
         "mode": "markers",
         "name": "Italy",
         "orientation": "v",
         "showlegend": true,
         "type": "scatter",
         "x": [
          110
         ],
         "xaxis": "x",
         "y": [
          32114.61
         ],
         "yaxis": "y"
        },
        {
         "hovertemplate": "<b>%{hovertext}</b><br><br>Country=Japan<br>Number of Transactions=%{x}<br>Total Sales=%{marker.size}<extra></extra>",
         "hovertext": [
          "Japan"
         ],
         "legendgroup": "Japan",
         "marker": {
          "color": "#FFA15A",
          "size": [
           170188.0458
          ],
          "sizemode": "area",
          "sizeref": 1144.21907875,
          "symbol": "circle"
         },
         "mode": "markers",
         "name": "Japan",
         "orientation": "v",
         "showlegend": true,
         "type": "scatter",
         "x": [
          985
         ],
         "xaxis": "x",
         "y": [
          170188.0458
         ],
         "yaxis": "y"
        },
        {
         "hovertemplate": "<b>%{hovertext}</b><br><br>Country=Luxembourg<br>Number of Transactions=%{x}<br>Total Sales=%{marker.size}<extra></extra>",
         "hovertext": [
          "Luxembourg"
         ],
         "legendgroup": "Luxembourg",
         "marker": {
          "color": "#19d3f3",
          "size": [
           29863.15
          ],
          "sizemode": "area",
          "sizeref": 1144.21907875,
          "symbol": "circle"
         },
         "mode": "markers",
         "name": "Luxembourg",
         "orientation": "v",
         "showlegend": true,
         "type": "scatter",
         "x": [
          89
         ],
         "xaxis": "x",
         "y": [
          29863.15
         ],
         "yaxis": "y"
        },
        {
         "hovertemplate": "<b>%{hovertext}</b><br><br>Country=Mexico<br>Number of Transactions=%{x}<br>Total Sales=%{marker.size}<extra></extra>",
         "hovertext": [
          "Mexico"
         ],
         "legendgroup": "Mexico",
         "marker": {
          "color": "#FF6692",
          "size": [
           78258.136
          ],
          "sizemode": "area",
          "sizeref": 1144.21907875,
          "symbol": "circle"
         },
         "mode": "markers",
         "name": "Mexico",
         "orientation": "v",
         "showlegend": true,
         "type": "scatter",
         "x": [
          469
         ],
         "xaxis": "x",
         "y": [
          78258.136
         ],
         "yaxis": "y"
        },
        {
         "hovertemplate": "<b>%{hovertext}</b><br><br>Country=Netherlands<br>Number of Transactions=%{x}<br>Total Sales=%{marker.size}<extra></extra>",
         "hovertext": [
          "Netherlands"
         ],
         "legendgroup": "Netherlands",
         "marker": {
          "color": "#B6E880",
          "size": [
           10169.112
          ],
          "sizemode": "area",
          "sizeref": 1144.21907875,
          "symbol": "circle"
         },
         "mode": "markers",
         "name": "Netherlands",
         "orientation": "v",
         "showlegend": true,
         "type": "scatter",
         "x": [
          45
         ],
         "xaxis": "x",
         "y": [
          10169.112
         ],
         "yaxis": "y"
        },
        {
         "hovertemplate": "<b>%{hovertext}</b><br><br>Country=New Zealand<br>Number of Transactions=%{x}<br>Total Sales=%{marker.size}<extra></extra>",
         "hovertext": [
          "New Zealand"
         ],
         "legendgroup": "New Zealand",
         "marker": {
          "color": "#FF97FF",
          "size": [
           4783.522
          ],
          "sizemode": "area",
          "sizeref": 1144.21907875,
          "symbol": "circle"
         },
         "mode": "markers",
         "name": "New Zealand",
         "orientation": "v",
         "showlegend": true,
         "type": "scatter",
         "x": [
          37
         ],
         "xaxis": "x",
         "y": [
          4783.522
         ],
         "yaxis": "y"
        },
        {
         "hovertemplate": "<b>%{hovertext}</b><br><br>Country=Norway<br>Number of Transactions=%{x}<br>Total Sales=%{marker.size}<extra></extra>",
         "hovertext": [
          "Norway"
         ],
         "legendgroup": "Norway",
         "marker": {
          "color": "#FECB52",
          "size": [
           22627.956
          ],
          "sizemode": "area",
          "sizeref": 1144.21907875,
          "symbol": "circle"
         },
         "mode": "markers",
         "name": "Norway",
         "orientation": "v",
         "showlegend": true,
         "type": "scatter",
         "x": [
          56
         ],
         "xaxis": "x",
         "y": [
          22627.956
         ],
         "yaxis": "y"
        },
        {
         "hovertemplate": "<b>%{hovertext}</b><br><br>Country=Philippines<br>Number of Transactions=%{x}<br>Total Sales=%{marker.size}<extra></extra>",
         "hovertext": [
          "Philippines"
         ],
         "legendgroup": "Philippines",
         "marker": {
          "color": "#636efa",
          "size": [
           27451.069
          ],
          "sizemode": "area",
          "sizeref": 1144.21907875,
          "symbol": "circle"
         },
         "mode": "markers",
         "name": "Philippines",
         "orientation": "v",
         "showlegend": true,
         "type": "scatter",
         "x": [
          96
         ],
         "xaxis": "x",
         "y": [
          27451.069
         ],
         "yaxis": "y"
        },
        {
         "hovertemplate": "<b>%{hovertext}</b><br><br>Country=Poland<br>Number of Transactions=%{x}<br>Total Sales=%{marker.size}<extra></extra>",
         "hovertext": [
          "Poland"
         ],
         "legendgroup": "Poland",
         "marker": {
          "color": "#EF553B",
          "size": [
           22205.15
          ],
          "sizemode": "area",
          "sizeref": 1144.21907875,
          "symbol": "circle"
         },
         "mode": "markers",
         "name": "Poland",
         "orientation": "v",
         "showlegend": true,
         "type": "scatter",
         "x": [
          66
         ],
         "xaxis": "x",
         "y": [
          22205.15
         ],
         "yaxis": "y"
        },
        {
         "hovertemplate": "<b>%{hovertext}</b><br><br>Country=Portugal<br>Number of Transactions=%{x}<br>Total Sales=%{marker.size}<extra></extra>",
         "hovertext": [
          "Portugal"
         ],
         "legendgroup": "Portugal",
         "marker": {
          "color": "#00cc96",
          "size": [
           19510.64
          ],
          "sizemode": "area",
          "sizeref": 1144.21907875,
          "symbol": "circle"
         },
         "mode": "markers",
         "name": "Portugal",
         "orientation": "v",
         "showlegend": true,
         "type": "scatter",
         "x": [
          61
         ],
         "xaxis": "x",
         "y": [
          19510.64
         ],
         "yaxis": "y"
        },
        {
         "hovertemplate": "<b>%{hovertext}</b><br><br>Country=Qatar<br>Number of Transactions=%{x}<br>Total Sales=%{marker.size}<extra></extra>",
         "hovertext": [
          "Qatar"
         ],
         "legendgroup": "Qatar",
         "marker": {
          "color": "#ab63fa",
          "size": [
           919.91
          ],
          "sizemode": "area",
          "sizeref": 1144.21907875,
          "symbol": "circle"
         },
         "mode": "markers",
         "name": "Qatar",
         "orientation": "v",
         "showlegend": true,
         "type": "scatter",
         "x": [
          7
         ],
         "xaxis": "x",
         "y": [
          919.91
         ],
         "yaxis": "y"
        },
        {
         "hovertemplate": "<b>%{hovertext}</b><br><br>Country=Russia<br>Number of Transactions=%{x}<br>Total Sales=%{marker.size}<extra></extra>",
         "hovertext": [
          "Russia"
         ],
         "legendgroup": "Russia",
         "marker": {
          "color": "#FFA15A",
          "size": [
           32108.118
          ],
          "sizemode": "area",
          "sizeref": 1144.21907875,
          "symbol": "circle"
         },
         "mode": "markers",
         "name": "Russia",
         "orientation": "v",
         "showlegend": true,
         "type": "scatter",
         "x": [
          182
         ],
         "xaxis": "x",
         "y": [
          32108.118
         ],
         "yaxis": "y"
        },
        {
         "hovertemplate": "<b>%{hovertext}</b><br><br>Country=Saudi Arabia<br>Number of Transactions=%{x}<br>Total Sales=%{marker.size}<extra></extra>",
         "hovertext": [
          "Saudi Arabia"
         ],
         "legendgroup": "Saudi Arabia",
         "marker": {
          "color": "#19d3f3",
          "size": [
           13384.357
          ],
          "sizemode": "area",
          "sizeref": 1144.21907875,
          "symbol": "circle"
         },
         "mode": "markers",
         "name": "Saudi Arabia",
         "orientation": "v",
         "showlegend": true,
         "type": "scatter",
         "x": [
          82
         ],
         "xaxis": "x",
         "y": [
          13384.357
         ],
         "yaxis": "y"
        },
        {
         "hovertemplate": "<b>%{hovertext}</b><br><br>Country=Singapore<br>Number of Transactions=%{x}<br>Total Sales=%{marker.size}<extra></extra>",
         "hovertext": [
          "Singapore"
         ],
         "legendgroup": "Singapore",
         "marker": {
          "color": "#FF6692",
          "size": [
           19683.39
          ],
          "sizemode": "area",
          "sizeref": 1144.21907875,
          "symbol": "circle"
         },
         "mode": "markers",
         "name": "Singapore",
         "orientation": "v",
         "showlegend": true,
         "type": "scatter",
         "x": [
          66
         ],
         "xaxis": "x",
         "y": [
          19683.39
         ],
         "yaxis": "y"
        },
        {
         "hovertemplate": "<b>%{hovertext}</b><br><br>Country=Slovenia<br>Number of Transactions=%{x}<br>Total Sales=%{marker.size}<extra></extra>",
         "hovertext": [
          "Slovenia"
         ],
         "legendgroup": "Slovenia",
         "marker": {
          "color": "#B6E880",
          "size": [
           1603.136
          ],
          "sizemode": "area",
          "sizeref": 1144.21907875,
          "symbol": "circle"
         },
         "mode": "markers",
         "name": "Slovenia",
         "orientation": "v",
         "showlegend": true,
         "type": "scatter",
         "x": [
          1
         ],
         "xaxis": "x",
         "y": [
          1603.136
         ],
         "yaxis": "y"
        },
        {
         "hovertemplate": "<b>%{hovertext}</b><br><br>Country=South Africa<br>Number of Transactions=%{x}<br>Total Sales=%{marker.size}<extra></extra>",
         "hovertext": [
          "South Africa"
         ],
         "legendgroup": "South Africa",
         "marker": {
          "color": "#FF97FF",
          "size": [
           30661.873
          ],
          "sizemode": "area",
          "sizeref": 1144.21907875,
          "symbol": "circle"
         },
         "mode": "markers",
         "name": "South Africa",
         "orientation": "v",
         "showlegend": true,
         "type": "scatter",
         "x": [
          183
         ],
         "xaxis": "x",
         "y": [
          30661.873
         ],
         "yaxis": "y"
        },
        {
         "hovertemplate": "<b>%{hovertext}</b><br><br>Country=South Korea<br>Number of Transactions=%{x}<br>Total Sales=%{marker.size}<extra></extra>",
         "hovertext": [
          "South Korea"
         ],
         "legendgroup": "South Korea",
         "marker": {
          "color": "#FECB52",
          "size": [
           28634.434
          ],
          "sizemode": "area",
          "sizeref": 1144.21907875,
          "symbol": "circle"
         },
         "mode": "markers",
         "name": "South Korea",
         "orientation": "v",
         "showlegend": true,
         "type": "scatter",
         "x": [
          135
         ],
         "xaxis": "x",
         "y": [
          28634.434
         ],
         "yaxis": "y"
        },
        {
         "hovertemplate": "<b>%{hovertext}</b><br><br>Country=Spain<br>Number of Transactions=%{x}<br>Total Sales=%{marker.size}<extra></extra>",
         "hovertext": [
          "Spain"
         ],
         "legendgroup": "Spain",
         "marker": {
          "color": "#636efa",
          "size": [
           70636.72
          ],
          "sizemode": "area",
          "sizeref": 1144.21907875,
          "symbol": "circle"
         },
         "mode": "markers",
         "name": "Spain",
         "orientation": "v",
         "showlegend": true,
         "type": "scatter",
         "x": [
          224
         ],
         "xaxis": "x",
         "y": [
          70636.72
         ],
         "yaxis": "y"
        },
        {
         "hovertemplate": "<b>%{hovertext}</b><br><br>Country=Sweden<br>Number of Transactions=%{x}<br>Total Sales=%{marker.size}<extra></extra>",
         "hovertext": [
          "Sweden"
         ],
         "legendgroup": "Sweden",
         "marker": {
          "color": "#EF553B",
          "size": [
           55603.164
          ],
          "sizemode": "area",
          "sizeref": 1144.21907875,
          "symbol": "circle"
         },
         "mode": "markers",
         "name": "Sweden",
         "orientation": "v",
         "showlegend": true,
         "type": "scatter",
         "x": [
          249
         ],
         "xaxis": "x",
         "y": [
          55603.164
         ],
         "yaxis": "y"
        },
        {
         "hovertemplate": "<b>%{hovertext}</b><br><br>Country=Taiwan<br>Number of Transactions=%{x}<br>Total Sales=%{marker.size}<extra></extra>",
         "hovertext": [
          "Taiwan"
         ],
         "legendgroup": "Taiwan",
         "marker": {
          "color": "#00cc96",
          "size": [
           4382.486
          ],
          "sizemode": "area",
          "sizeref": 1144.21907875,
          "symbol": "circle"
         },
         "mode": "markers",
         "name": "Taiwan",
         "orientation": "v",
         "showlegend": true,
         "type": "scatter",
         "x": [
          21
         ],
         "xaxis": "x",
         "y": [
          4382.486
         ],
         "yaxis": "y"
        },
        {
         "hovertemplate": "<b>%{hovertext}</b><br><br>Country=Turkey<br>Number of Transactions=%{x}<br>Total Sales=%{marker.size}<extra></extra>",
         "hovertext": [
          "Turkey"
         ],
         "legendgroup": "Turkey",
         "marker": {
          "color": "#ab63fa",
          "size": [
           11220.056
          ],
          "sizemode": "area",
          "sizeref": 1144.21907875,
          "symbol": "circle"
         },
         "mode": "markers",
         "name": "Turkey",
         "orientation": "v",
         "showlegend": true,
         "type": "scatter",
         "x": [
          53
         ],
         "xaxis": "x",
         "y": [
          11220.056
         ],
         "yaxis": "y"
        },
        {
         "hovertemplate": "<b>%{hovertext}</b><br><br>Country=Ukraine<br>Number of Transactions=%{x}<br>Total Sales=%{marker.size}<extra></extra>",
         "hovertext": [
          "Ukraine"
         ],
         "legendgroup": "Ukraine",
         "marker": {
          "color": "#FFA15A",
          "size": [
           10771.34
          ],
          "sizemode": "area",
          "sizeref": 1144.21907875,
          "symbol": "circle"
         },
         "mode": "markers",
         "name": "Ukraine",
         "orientation": "v",
         "showlegend": true,
         "type": "scatter",
         "x": [
          53
         ],
         "xaxis": "x",
         "y": [
          10771.34
         ],
         "yaxis": "y"
        },
        {
         "hovertemplate": "<b>%{hovertext}</b><br><br>Country=United Arab Emirates<br>Number of Transactions=%{x}<br>Total Sales=%{marker.size}<extra></extra>",
         "hovertext": [
          "United Arab Emirates"
         ],
         "legendgroup": "United Arab Emirates",
         "marker": {
          "color": "#19d3f3",
          "size": [
           11678.13
          ],
          "sizemode": "area",
          "sizeref": 1144.21907875,
          "symbol": "circle"
         },
         "mode": "markers",
         "name": "United Arab Emirates",
         "orientation": "v",
         "showlegend": true,
         "type": "scatter",
         "x": [
          60
         ],
         "xaxis": "x",
         "y": [
          11678.13
         ],
         "yaxis": "y"
        },
        {
         "hovertemplate": "<b>%{hovertext}</b><br><br>Country=United Kingdom<br>Number of Transactions=%{x}<br>Total Sales=%{marker.size}<extra></extra>",
         "hovertext": [
          "United Kingdom"
         ],
         "legendgroup": "United Kingdom",
         "marker": {
          "color": "#FF6692",
          "size": [
           313169.881
          ],
          "sizemode": "area",
          "sizeref": 1144.21907875,
          "symbol": "circle"
         },
         "mode": "markers",
         "name": "United Kingdom",
         "orientation": "v",
         "showlegend": true,
         "type": "scatter",
         "x": [
          1141
         ],
         "xaxis": "x",
         "y": [
          313169.881
         ],
         "yaxis": "y"
        },
        {
         "hovertemplate": "<b>%{hovertext}</b><br><br>Country=United States<br>Number of Transactions=%{x}<br>Total Sales=%{marker.size}<extra></extra>",
         "hovertext": [
          "United States"
         ],
         "legendgroup": "United States",
         "marker": {
          "color": "#B6E880",
          "size": [
           457687.6315
          ],
          "sizemode": "area",
          "sizeref": 1144.21907875,
          "symbol": "circle"
         },
         "mode": "markers",
         "name": "United States",
         "orientation": "v",
         "showlegend": true,
         "type": "scatter",
         "x": [
          2001
         ],
         "xaxis": "x",
         "y": [
          457687.6315
         ],
         "yaxis": "y"
        }
       ],
       "layout": {
        "legend": {
         "itemsizing": "constant",
         "title": {
          "text": "Country"
         },
         "tracegroupgap": 0
        },
        "template": {
         "data": {
          "bar": [
           {
            "error_x": {
             "color": "#2a3f5f"
            },
            "error_y": {
             "color": "#2a3f5f"
            },
            "marker": {
             "line": {
              "color": "#E5ECF6",
              "width": 0.5
             },
             "pattern": {
              "fillmode": "overlay",
              "size": 10,
              "solidity": 0.2
             }
            },
            "type": "bar"
           }
          ],
          "barpolar": [
           {
            "marker": {
             "line": {
              "color": "#E5ECF6",
              "width": 0.5
             },
             "pattern": {
              "fillmode": "overlay",
              "size": 10,
              "solidity": 0.2
             }
            },
            "type": "barpolar"
           }
          ],
          "carpet": [
           {
            "aaxis": {
             "endlinecolor": "#2a3f5f",
             "gridcolor": "white",
             "linecolor": "white",
             "minorgridcolor": "white",
             "startlinecolor": "#2a3f5f"
            },
            "baxis": {
             "endlinecolor": "#2a3f5f",
             "gridcolor": "white",
             "linecolor": "white",
             "minorgridcolor": "white",
             "startlinecolor": "#2a3f5f"
            },
            "type": "carpet"
           }
          ],
          "choropleth": [
           {
            "colorbar": {
             "outlinewidth": 0,
             "ticks": ""
            },
            "type": "choropleth"
           }
          ],
          "contour": [
           {
            "colorbar": {
             "outlinewidth": 0,
             "ticks": ""
            },
            "colorscale": [
             [
              0,
              "#0d0887"
             ],
             [
              0.1111111111111111,
              "#46039f"
             ],
             [
              0.2222222222222222,
              "#7201a8"
             ],
             [
              0.3333333333333333,
              "#9c179e"
             ],
             [
              0.4444444444444444,
              "#bd3786"
             ],
             [
              0.5555555555555556,
              "#d8576b"
             ],
             [
              0.6666666666666666,
              "#ed7953"
             ],
             [
              0.7777777777777778,
              "#fb9f3a"
             ],
             [
              0.8888888888888888,
              "#fdca26"
             ],
             [
              1,
              "#f0f921"
             ]
            ],
            "type": "contour"
           }
          ],
          "contourcarpet": [
           {
            "colorbar": {
             "outlinewidth": 0,
             "ticks": ""
            },
            "type": "contourcarpet"
           }
          ],
          "heatmap": [
           {
            "colorbar": {
             "outlinewidth": 0,
             "ticks": ""
            },
            "colorscale": [
             [
              0,
              "#0d0887"
             ],
             [
              0.1111111111111111,
              "#46039f"
             ],
             [
              0.2222222222222222,
              "#7201a8"
             ],
             [
              0.3333333333333333,
              "#9c179e"
             ],
             [
              0.4444444444444444,
              "#bd3786"
             ],
             [
              0.5555555555555556,
              "#d8576b"
             ],
             [
              0.6666666666666666,
              "#ed7953"
             ],
             [
              0.7777777777777778,
              "#fb9f3a"
             ],
             [
              0.8888888888888888,
              "#fdca26"
             ],
             [
              1,
              "#f0f921"
             ]
            ],
            "type": "heatmap"
           }
          ],
          "heatmapgl": [
           {
            "colorbar": {
             "outlinewidth": 0,
             "ticks": ""
            },
            "colorscale": [
             [
              0,
              "#0d0887"
             ],
             [
              0.1111111111111111,
              "#46039f"
             ],
             [
              0.2222222222222222,
              "#7201a8"
             ],
             [
              0.3333333333333333,
              "#9c179e"
             ],
             [
              0.4444444444444444,
              "#bd3786"
             ],
             [
              0.5555555555555556,
              "#d8576b"
             ],
             [
              0.6666666666666666,
              "#ed7953"
             ],
             [
              0.7777777777777778,
              "#fb9f3a"
             ],
             [
              0.8888888888888888,
              "#fdca26"
             ],
             [
              1,
              "#f0f921"
             ]
            ],
            "type": "heatmapgl"
           }
          ],
          "histogram": [
           {
            "marker": {
             "pattern": {
              "fillmode": "overlay",
              "size": 10,
              "solidity": 0.2
             }
            },
            "type": "histogram"
           }
          ],
          "histogram2d": [
           {
            "colorbar": {
             "outlinewidth": 0,
             "ticks": ""
            },
            "colorscale": [
             [
              0,
              "#0d0887"
             ],
             [
              0.1111111111111111,
              "#46039f"
             ],
             [
              0.2222222222222222,
              "#7201a8"
             ],
             [
              0.3333333333333333,
              "#9c179e"
             ],
             [
              0.4444444444444444,
              "#bd3786"
             ],
             [
              0.5555555555555556,
              "#d8576b"
             ],
             [
              0.6666666666666666,
              "#ed7953"
             ],
             [
              0.7777777777777778,
              "#fb9f3a"
             ],
             [
              0.8888888888888888,
              "#fdca26"
             ],
             [
              1,
              "#f0f921"
             ]
            ],
            "type": "histogram2d"
           }
          ],
          "histogram2dcontour": [
           {
            "colorbar": {
             "outlinewidth": 0,
             "ticks": ""
            },
            "colorscale": [
             [
              0,
              "#0d0887"
             ],
             [
              0.1111111111111111,
              "#46039f"
             ],
             [
              0.2222222222222222,
              "#7201a8"
             ],
             [
              0.3333333333333333,
              "#9c179e"
             ],
             [
              0.4444444444444444,
              "#bd3786"
             ],
             [
              0.5555555555555556,
              "#d8576b"
             ],
             [
              0.6666666666666666,
              "#ed7953"
             ],
             [
              0.7777777777777778,
              "#fb9f3a"
             ],
             [
              0.8888888888888888,
              "#fdca26"
             ],
             [
              1,
              "#f0f921"
             ]
            ],
            "type": "histogram2dcontour"
           }
          ],
          "mesh3d": [
           {
            "colorbar": {
             "outlinewidth": 0,
             "ticks": ""
            },
            "type": "mesh3d"
           }
          ],
          "parcoords": [
           {
            "line": {
             "colorbar": {
              "outlinewidth": 0,
              "ticks": ""
             }
            },
            "type": "parcoords"
           }
          ],
          "pie": [
           {
            "automargin": true,
            "type": "pie"
           }
          ],
          "scatter": [
           {
            "fillpattern": {
             "fillmode": "overlay",
             "size": 10,
             "solidity": 0.2
            },
            "type": "scatter"
           }
          ],
          "scatter3d": [
           {
            "line": {
             "colorbar": {
              "outlinewidth": 0,
              "ticks": ""
             }
            },
            "marker": {
             "colorbar": {
              "outlinewidth": 0,
              "ticks": ""
             }
            },
            "type": "scatter3d"
           }
          ],
          "scattercarpet": [
           {
            "marker": {
             "colorbar": {
              "outlinewidth": 0,
              "ticks": ""
             }
            },
            "type": "scattercarpet"
           }
          ],
          "scattergeo": [
           {
            "marker": {
             "colorbar": {
              "outlinewidth": 0,
              "ticks": ""
             }
            },
            "type": "scattergeo"
           }
          ],
          "scattergl": [
           {
            "marker": {
             "colorbar": {
              "outlinewidth": 0,
              "ticks": ""
             }
            },
            "type": "scattergl"
           }
          ],
          "scattermapbox": [
           {
            "marker": {
             "colorbar": {
              "outlinewidth": 0,
              "ticks": ""
             }
            },
            "type": "scattermapbox"
           }
          ],
          "scatterpolar": [
           {
            "marker": {
             "colorbar": {
              "outlinewidth": 0,
              "ticks": ""
             }
            },
            "type": "scatterpolar"
           }
          ],
          "scatterpolargl": [
           {
            "marker": {
             "colorbar": {
              "outlinewidth": 0,
              "ticks": ""
             }
            },
            "type": "scatterpolargl"
           }
          ],
          "scatterternary": [
           {
            "marker": {
             "colorbar": {
              "outlinewidth": 0,
              "ticks": ""
             }
            },
            "type": "scatterternary"
           }
          ],
          "surface": [
           {
            "colorbar": {
             "outlinewidth": 0,
             "ticks": ""
            },
            "colorscale": [
             [
              0,
              "#0d0887"
             ],
             [
              0.1111111111111111,
              "#46039f"
             ],
             [
              0.2222222222222222,
              "#7201a8"
             ],
             [
              0.3333333333333333,
              "#9c179e"
             ],
             [
              0.4444444444444444,
              "#bd3786"
             ],
             [
              0.5555555555555556,
              "#d8576b"
             ],
             [
              0.6666666666666666,
              "#ed7953"
             ],
             [
              0.7777777777777778,
              "#fb9f3a"
             ],
             [
              0.8888888888888888,
              "#fdca26"
             ],
             [
              1,
              "#f0f921"
             ]
            ],
            "type": "surface"
           }
          ],
          "table": [
           {
            "cells": {
             "fill": {
              "color": "#EBF0F8"
             },
             "line": {
              "color": "white"
             }
            },
            "header": {
             "fill": {
              "color": "#C8D4E3"
             },
             "line": {
              "color": "white"
             }
            },
            "type": "table"
           }
          ]
         },
         "layout": {
          "annotationdefaults": {
           "arrowcolor": "#2a3f5f",
           "arrowhead": 0,
           "arrowwidth": 1
          },
          "autotypenumbers": "strict",
          "coloraxis": {
           "colorbar": {
            "outlinewidth": 0,
            "ticks": ""
           }
          },
          "colorscale": {
           "diverging": [
            [
             0,
             "#8e0152"
            ],
            [
             0.1,
             "#c51b7d"
            ],
            [
             0.2,
             "#de77ae"
            ],
            [
             0.3,
             "#f1b6da"
            ],
            [
             0.4,
             "#fde0ef"
            ],
            [
             0.5,
             "#f7f7f7"
            ],
            [
             0.6,
             "#e6f5d0"
            ],
            [
             0.7,
             "#b8e186"
            ],
            [
             0.8,
             "#7fbc41"
            ],
            [
             0.9,
             "#4d9221"
            ],
            [
             1,
             "#276419"
            ]
           ],
           "sequential": [
            [
             0,
             "#0d0887"
            ],
            [
             0.1111111111111111,
             "#46039f"
            ],
            [
             0.2222222222222222,
             "#7201a8"
            ],
            [
             0.3333333333333333,
             "#9c179e"
            ],
            [
             0.4444444444444444,
             "#bd3786"
            ],
            [
             0.5555555555555556,
             "#d8576b"
            ],
            [
             0.6666666666666666,
             "#ed7953"
            ],
            [
             0.7777777777777778,
             "#fb9f3a"
            ],
            [
             0.8888888888888888,
             "#fdca26"
            ],
            [
             1,
             "#f0f921"
            ]
           ],
           "sequentialminus": [
            [
             0,
             "#0d0887"
            ],
            [
             0.1111111111111111,
             "#46039f"
            ],
            [
             0.2222222222222222,
             "#7201a8"
            ],
            [
             0.3333333333333333,
             "#9c179e"
            ],
            [
             0.4444444444444444,
             "#bd3786"
            ],
            [
             0.5555555555555556,
             "#d8576b"
            ],
            [
             0.6666666666666666,
             "#ed7953"
            ],
            [
             0.7777777777777778,
             "#fb9f3a"
            ],
            [
             0.8888888888888888,
             "#fdca26"
            ],
            [
             1,
             "#f0f921"
            ]
           ]
          },
          "colorway": [
           "#636efa",
           "#EF553B",
           "#00cc96",
           "#ab63fa",
           "#FFA15A",
           "#19d3f3",
           "#FF6692",
           "#B6E880",
           "#FF97FF",
           "#FECB52"
          ],
          "font": {
           "color": "#2a3f5f"
          },
          "geo": {
           "bgcolor": "white",
           "lakecolor": "white",
           "landcolor": "#E5ECF6",
           "showlakes": true,
           "showland": true,
           "subunitcolor": "white"
          },
          "hoverlabel": {
           "align": "left"
          },
          "hovermode": "closest",
          "mapbox": {
           "style": "light"
          },
          "paper_bgcolor": "white",
          "plot_bgcolor": "#E5ECF6",
          "polar": {
           "angularaxis": {
            "gridcolor": "white",
            "linecolor": "white",
            "ticks": ""
           },
           "bgcolor": "#E5ECF6",
           "radialaxis": {
            "gridcolor": "white",
            "linecolor": "white",
            "ticks": ""
           }
          },
          "scene": {
           "xaxis": {
            "backgroundcolor": "#E5ECF6",
            "gridcolor": "white",
            "gridwidth": 2,
            "linecolor": "white",
            "showbackground": true,
            "ticks": "",
            "zerolinecolor": "white"
           },
           "yaxis": {
            "backgroundcolor": "#E5ECF6",
            "gridcolor": "white",
            "gridwidth": 2,
            "linecolor": "white",
            "showbackground": true,
            "ticks": "",
            "zerolinecolor": "white"
           },
           "zaxis": {
            "backgroundcolor": "#E5ECF6",
            "gridcolor": "white",
            "gridwidth": 2,
            "linecolor": "white",
            "showbackground": true,
            "ticks": "",
            "zerolinecolor": "white"
           }
          },
          "shapedefaults": {
           "line": {
            "color": "#2a3f5f"
           }
          },
          "ternary": {
           "aaxis": {
            "gridcolor": "white",
            "linecolor": "white",
            "ticks": ""
           },
           "baxis": {
            "gridcolor": "white",
            "linecolor": "white",
            "ticks": ""
           },
           "bgcolor": "#E5ECF6",
           "caxis": {
            "gridcolor": "white",
            "linecolor": "white",
            "ticks": ""
           }
          },
          "title": {
           "x": 0.05
          },
          "xaxis": {
           "automargin": true,
           "gridcolor": "white",
           "linecolor": "white",
           "ticks": "",
           "title": {
            "standoff": 15
           },
           "zerolinecolor": "white",
           "zerolinewidth": 2
          },
          "yaxis": {
           "automargin": true,
           "gridcolor": "white",
           "linecolor": "white",
           "ticks": "",
           "title": {
            "standoff": 15
           },
           "zerolinecolor": "white",
           "zerolinewidth": 2
          }
         }
        },
        "title": {
         "text": "Bubble Chart of Sales by Country"
        },
        "xaxis": {
         "anchor": "y",
         "domain": [
          0,
          1
         ],
         "title": {
          "text": "Number of Transactions"
         }
        },
        "yaxis": {
         "anchor": "x",
         "domain": [
          0,
          1
         ],
         "title": {
          "text": "Total Sales"
         }
        }
       }
      }
     },
     "metadata": {},
     "output_type": "display_data"
    }
   ],
   "source": [
    "aggregated_df = df.groupby('Country')['Sales'].agg(['sum', 'count']).reset_index()\n",
    "\n",
    "fig = px.scatter(\n",
    "    aggregated_df, \n",
    "    x='count',\n",
    "    y='sum',\n",
    "    size='sum',\n",
    "    color='Country',\n",
    "    hover_name='Country',\n",
    "    labels={'count': 'Number of Transactions', 'sum': 'Total Sales'},\n",
    "    title='Bubble Chart of Sales by Country'\n",
    ")\n",
    "fig.show()"
   ]
  },
  {
   "cell_type": "markdown",
   "metadata": {},
   "source": [
    "In addition, we provide a heatmap illustrating the relationship between industry and segment in terms of total sales. This visualization allows us to identify which industry-segment combinations contribute the most to overall sales and to spot potential areas for growth. By focusing on high-performing combinations, we can develop targeted strategies to reinforce these strengths, while lower-performing pairs may benefit from specialized approaches to boost their sales."
   ]
  },
  {
   "cell_type": "code",
   "execution_count": 37,
   "metadata": {},
   "outputs": [
    {
     "data": {
      "image/png": "[encoded data removed]",
      "text/plain": [
       "<Figure size 576x432 with 2 Axes>"
      ]
     },
     "metadata": {
      "needs_background": "light"
     },
     "output_type": "display_data"
    }
   ],
   "source": [
    "pivot_df = df.pivot_table(index='Industry', columns='Segment', values='Sales', aggfunc='sum', fill_value=0)\n",
    "\n",
    "plt.figure(figsize=(8, 6))\n",
    "sns.heatmap(pivot_df, annot=True, cmap='YlGnBu', fmt=\".2f\", linewidths=0.5)\n",
    "plt.title(\"Heatmap of Sales by Industry and Segment\")\n",
    "plt.xlabel(\"Segment\")\n",
    "plt.ylabel(\"Industry\")\n",
    "plt.show()"
   ]
  },
  {
   "cell_type": "markdown",
   "metadata": {},
   "source": [
    "After highlighting the factors contributing most significantly to total sales, it is essential to focus on these insights from the charts to develop targeted strategies. For areas with lower sales, a refined approach can be applied to unlock potential growth. Overall, these charts serve as a foundation for identifying our primary markets and recognizing less effective segments, guiding future efforts toward optimized resource allocation and market penetration."
   ]
  },
  {
   "cell_type": "markdown",
   "metadata": {},
   "source": [
    "As mentioned previously, sales have a moderate correlation with profit. Therefore, one potential strategy to increase profit is by focusing on initiatives that drive up total sales, which, in turn, could positively impact profitability."
   ]
  },
  {
   "cell_type": "markdown",
   "metadata": {},
   "source": [
    "Next, we will provide insights into the discount column, as discount levels show a moderately negative correlation with profit. This suggests that an ineffective discount strategy could lead to a decrease in profit. Careful analysis is needed to understand the impact of discounts and to design a strategy that maximizes profitability while minimizing potential profit losses due to excessive discounting."
   ]
  },
  {
   "cell_type": "markdown",
   "metadata": {},
   "source": [
    "First, we try to categorize the discount column as [None, Low, Medium, High]"
   ]
  },
  {
   "cell_type": "code",
   "execution_count": 38,
   "metadata": {},
   "outputs": [],
   "source": [
    "def categorize_discount(discount):\n",
    "    if discount<0.001:\n",
    "        return 'None'\n",
    "    elif 0.001<=discount<0.25:\n",
    "        return 'Low'\n",
    "    elif 0.25<=discount<0.5:\n",
    "        return 'Medium'\n",
    "    else: \n",
    "        return 'High'"
   ]
  },
  {
   "cell_type": "markdown",
   "metadata": {},
   "source": [
    "Next, we will present the proportion of the discount categories by region. Since discounts can reduce profit, we need to consider whether to reduce or remove the discount in each region."
   ]
  },
  {
   "cell_type": "code",
   "execution_count": 39,
   "metadata": {},
   "outputs": [],
   "source": [
    "df['Discount_Category'] = df['Discount'].apply(categorize_discount)\n",
    "aggregated_df = df.groupby(['Region','Discount_Category']).size().reset_index(name='Count')\n",
    "total_count = aggregated_df['Count'].sum()\n",
    "aggregated_df['Percentage'] = ((aggregated_df['Count'] / total_count * 100).round(2)).astype(str) + '%'"
   ]
  },
  {
   "cell_type": "code",
   "execution_count": 40,
   "metadata": {},
   "outputs": [
    {
     "data": {
      "application/vnd.plotly.v1+json": {
       "config": {
        "plotlyServerURL": "https://plot.ly"
       },
       "data": [
        {
         "branchvalues": "total",
         "customdata": [
          [
           "Medium"
          ],
          [
           "Low"
          ],
          [
           "High"
          ],
          [
           "High"
          ],
          [
           "Low"
          ],
          [
           "High"
          ],
          [
           "Medium"
          ],
          [
           "None"
          ],
          [
           "None"
          ],
          [
           "Medium"
          ],
          [
           "None"
          ],
          [
           "Low"
          ],
          [
           "(?)"
          ],
          [
           "(?)"
          ],
          [
           "(?)"
          ]
         ],
         "domain": {
          "x": [
           0,
           1
          ],
          "y": [
           0,
           1
          ]
         },
         "hovertemplate": "labels=%{label}<br>Count=%{value}<br>parent=%{parent}<br>id=%{id}<br>Discount_Category=%{customdata[0]}<extra></extra>",
         "ids": [
          "AMER/0.92%",
          "AMER/13.86%",
          "EMEA/3.27%",
          "AMER/1.39%",
          "EMEA/15.65%",
          "APJ/4.56%",
          "EMEA/1.81%",
          "AMER/20.5%",
          "APJ/6.02%",
          "APJ/1.98%",
          "EMEA/21.48%",
          "APJ/8.55%",
          "AMER",
          "APJ",
          "EMEA"
         ],
         "labels": [
          "0.92%",
          "13.86%",
          "3.27%",
          "1.39%",
          "15.65%",
          "4.56%",
          "1.81%",
          "20.5%",
          "6.02%",
          "1.98%",
          "21.48%",
          "8.55%",
          "AMER",
          "APJ",
          "EMEA"
         ],
         "marker": {
          "colors": [
           "orange",
           "lightblue",
           "red",
           "red",
           "lightblue",
           "red",
           "orange",
           "lightgreen",
           "lightgreen",
           "orange",
           "lightgreen",
           "lightblue",
           "#FFA15A",
           "#FFA15A",
           "#FFA15A"
          ]
         },
         "name": "",
         "parents": [
          "AMER",
          "AMER",
          "EMEA",
          "AMER",
          "EMEA",
          "APJ",
          "EMEA",
          "AMER",
          "APJ",
          "APJ",
          "EMEA",
          "APJ",
          "",
          "",
          ""
         ],
         "type": "sunburst",
         "values": [
          92,
          1385,
          327,
          139,
          1564,
          456,
          181,
          2049,
          602,
          198,
          2147,
          854,
          3665,
          2110,
          4219
         ]
        }
       ],
       "layout": {
        "annotations": [
         {
          "font": {
           "size": 1
          },
          "showarrow": false,
          "text": "Legend",
          "x": 1.15,
          "y": 1.05
         },
         {
          "bgcolor": "lightgreen",
          "font": {
           "color": "black"
          },
          "showarrow": false,
          "text": "None (<1%)",
          "x": 1.15,
          "y": 1
         },
         {
          "bgcolor": "lightblue",
          "font": {
           "color": "black"
          },
          "showarrow": false,
          "text": "Low (1%-25%)",
          "x": 1.15,
          "y": 0.95
         },
         {
          "bgcolor": "orange",
          "font": {
           "color": "black"
          },
          "showarrow": false,
          "text": "Medium (25%-50%)",
          "x": 1.15,
          "y": 0.9
         },
         {
          "bgcolor": "red",
          "font": {
           "color": "white"
          },
          "showarrow": false,
          "text": "High (>50%)",
          "x": 1.15,
          "y": 0.85
         }
        ],
        "height": 600,
        "legend": {
         "tracegroupgap": 0
        },
        "margin": {
         "t": 60
        },
        "template": {
         "data": {
          "bar": [
           {
            "error_x": {
             "color": "#2a3f5f"
            },
            "error_y": {
             "color": "#2a3f5f"
            },
            "marker": {
             "line": {
              "color": "#E5ECF6",
              "width": 0.5
             },
             "pattern": {
              "fillmode": "overlay",
              "size": 10,
              "solidity": 0.2
             }
            },
            "type": "bar"
           }
          ],
          "barpolar": [
           {
            "marker": {
             "line": {
              "color": "#E5ECF6",
              "width": 0.5
             },
             "pattern": {
              "fillmode": "overlay",
              "size": 10,
              "solidity": 0.2
             }
            },
            "type": "barpolar"
           }
          ],
          "carpet": [
           {
            "aaxis": {
             "endlinecolor": "#2a3f5f",
             "gridcolor": "white",
             "linecolor": "white",
             "minorgridcolor": "white",
             "startlinecolor": "#2a3f5f"
            },
            "baxis": {
             "endlinecolor": "#2a3f5f",
             "gridcolor": "white",
             "linecolor": "white",
             "minorgridcolor": "white",
             "startlinecolor": "#2a3f5f"
            },
            "type": "carpet"
           }
          ],
          "choropleth": [
           {
            "colorbar": {
             "outlinewidth": 0,
             "ticks": ""
            },
            "type": "choropleth"
           }
          ],
          "contour": [
           {
            "colorbar": {
             "outlinewidth": 0,
             "ticks": ""
            },
            "colorscale": [
             [
              0,
              "#0d0887"
             ],
             [
              0.1111111111111111,
              "#46039f"
             ],
             [
              0.2222222222222222,
              "#7201a8"
             ],
             [
              0.3333333333333333,
              "#9c179e"
             ],
             [
              0.4444444444444444,
              "#bd3786"
             ],
             [
              0.5555555555555556,
              "#d8576b"
             ],
             [
              0.6666666666666666,
              "#ed7953"
             ],
             [
              0.7777777777777778,
              "#fb9f3a"
             ],
             [
              0.8888888888888888,
              "#fdca26"
             ],
             [
              1,
              "#f0f921"
             ]
            ],
            "type": "contour"
           }
          ],
          "contourcarpet": [
           {
            "colorbar": {
             "outlinewidth": 0,
             "ticks": ""
            },
            "type": "contourcarpet"
           }
          ],
          "heatmap": [
           {
            "colorbar": {
             "outlinewidth": 0,
             "ticks": ""
            },
            "colorscale": [
             [
              0,
              "#0d0887"
             ],
             [
              0.1111111111111111,
              "#46039f"
             ],
             [
              0.2222222222222222,
              "#7201a8"
             ],
             [
              0.3333333333333333,
              "#9c179e"
             ],
             [
              0.4444444444444444,
              "#bd3786"
             ],
             [
              0.5555555555555556,
              "#d8576b"
             ],
             [
              0.6666666666666666,
              "#ed7953"
             ],
             [
              0.7777777777777778,
              "#fb9f3a"
             ],
             [
              0.8888888888888888,
              "#fdca26"
             ],
             [
              1,
              "#f0f921"
             ]
            ],
            "type": "heatmap"
           }
          ],
          "heatmapgl": [
           {
            "colorbar": {
             "outlinewidth": 0,
             "ticks": ""
            },
            "colorscale": [
             [
              0,
              "#0d0887"
             ],
             [
              0.1111111111111111,
              "#46039f"
             ],
             [
              0.2222222222222222,
              "#7201a8"
             ],
             [
              0.3333333333333333,
              "#9c179e"
             ],
             [
              0.4444444444444444,
              "#bd3786"
             ],
             [
              0.5555555555555556,
              "#d8576b"
             ],
             [
              0.6666666666666666,
              "#ed7953"
             ],
             [
              0.7777777777777778,
              "#fb9f3a"
             ],
             [
              0.8888888888888888,
              "#fdca26"
             ],
             [
              1,
              "#f0f921"
             ]
            ],
            "type": "heatmapgl"
           }
          ],
          "histogram": [
           {
            "marker": {
             "pattern": {
              "fillmode": "overlay",
              "size": 10,
              "solidity": 0.2
             }
            },
            "type": "histogram"
           }
          ],
          "histogram2d": [
           {
            "colorbar": {
             "outlinewidth": 0,
             "ticks": ""
            },
            "colorscale": [
             [
              0,
              "#0d0887"
             ],
             [
              0.1111111111111111,
              "#46039f"
             ],
             [
              0.2222222222222222,
              "#7201a8"
             ],
             [
              0.3333333333333333,
              "#9c179e"
             ],
             [
              0.4444444444444444,
              "#bd3786"
             ],
             [
              0.5555555555555556,
              "#d8576b"
             ],
             [
              0.6666666666666666,
              "#ed7953"
             ],
             [
              0.7777777777777778,
              "#fb9f3a"
             ],
             [
              0.8888888888888888,
              "#fdca26"
             ],
             [
              1,
              "#f0f921"
             ]
            ],
            "type": "histogram2d"
           }
          ],
          "histogram2dcontour": [
           {
            "colorbar": {
             "outlinewidth": 0,
             "ticks": ""
            },
            "colorscale": [
             [
              0,
              "#0d0887"
             ],
             [
              0.1111111111111111,
              "#46039f"
             ],
             [
              0.2222222222222222,
              "#7201a8"
             ],
             [
              0.3333333333333333,
              "#9c179e"
             ],
             [
              0.4444444444444444,
              "#bd3786"
             ],
             [
              0.5555555555555556,
              "#d8576b"
             ],
             [
              0.6666666666666666,
              "#ed7953"
             ],
             [
              0.7777777777777778,
              "#fb9f3a"
             ],
             [
              0.8888888888888888,
              "#fdca26"
             ],
             [
              1,
              "#f0f921"
             ]
            ],
            "type": "histogram2dcontour"
           }
          ],
          "mesh3d": [
           {
            "colorbar": {
             "outlinewidth": 0,
             "ticks": ""
            },
            "type": "mesh3d"
           }
          ],
          "parcoords": [
           {
            "line": {
             "colorbar": {
              "outlinewidth": 0,
              "ticks": ""
             }
            },
            "type": "parcoords"
           }
          ],
          "pie": [
           {
            "automargin": true,
            "type": "pie"
           }
          ],
          "scatter": [
           {
            "fillpattern": {
             "fillmode": "overlay",
             "size": 10,
             "solidity": 0.2
            },
            "type": "scatter"
           }
          ],
          "scatter3d": [
           {
            "line": {
             "colorbar": {
              "outlinewidth": 0,
              "ticks": ""
             }
            },
            "marker": {
             "colorbar": {
              "outlinewidth": 0,
              "ticks": ""
             }
            },
            "type": "scatter3d"
           }
          ],
          "scattercarpet": [
           {
            "marker": {
             "colorbar": {
              "outlinewidth": 0,
              "ticks": ""
             }
            },
            "type": "scattercarpet"
           }
          ],
          "scattergeo": [
           {
            "marker": {
             "colorbar": {
              "outlinewidth": 0,
              "ticks": ""
             }
            },
            "type": "scattergeo"
           }
          ],
          "scattergl": [
           {
            "marker": {
             "colorbar": {
              "outlinewidth": 0,
              "ticks": ""
             }
            },
            "type": "scattergl"
           }
          ],
          "scattermapbox": [
           {
            "marker": {
             "colorbar": {
              "outlinewidth": 0,
              "ticks": ""
             }
            },
            "type": "scattermapbox"
           }
          ],
          "scatterpolar": [
           {
            "marker": {
             "colorbar": {
              "outlinewidth": 0,
              "ticks": ""
             }
            },
            "type": "scatterpolar"
           }
          ],
          "scatterpolargl": [
           {
            "marker": {
             "colorbar": {
              "outlinewidth": 0,
              "ticks": ""
             }
            },
            "type": "scatterpolargl"
           }
          ],
          "scatterternary": [
           {
            "marker": {
             "colorbar": {
              "outlinewidth": 0,
              "ticks": ""
             }
            },
            "type": "scatterternary"
           }
          ],
          "surface": [
           {
            "colorbar": {
             "outlinewidth": 0,
             "ticks": ""
            },
            "colorscale": [
             [
              0,
              "#0d0887"
             ],
             [
              0.1111111111111111,
              "#46039f"
             ],
             [
              0.2222222222222222,
              "#7201a8"
             ],
             [
              0.3333333333333333,
              "#9c179e"
             ],
             [
              0.4444444444444444,
              "#bd3786"
             ],
             [
              0.5555555555555556,
              "#d8576b"
             ],
             [
              0.6666666666666666,
              "#ed7953"
             ],
             [
              0.7777777777777778,
              "#fb9f3a"
             ],
             [
              0.8888888888888888,
              "#fdca26"
             ],
             [
              1,
              "#f0f921"
             ]
            ],
            "type": "surface"
           }
          ],
          "table": [
           {
            "cells": {
             "fill": {
              "color": "#EBF0F8"
             },
             "line": {
              "color": "white"
             }
            },
            "header": {
             "fill": {
              "color": "#C8D4E3"
             },
             "line": {
              "color": "white"
             }
            },
            "type": "table"
           }
          ]
         },
         "layout": {
          "annotationdefaults": {
           "arrowcolor": "#2a3f5f",
           "arrowhead": 0,
           "arrowwidth": 1
          },
          "autotypenumbers": "strict",
          "coloraxis": {
           "colorbar": {
            "outlinewidth": 0,
            "ticks": ""
           }
          },
          "colorscale": {
           "diverging": [
            [
             0,
             "#8e0152"
            ],
            [
             0.1,
             "#c51b7d"
            ],
            [
             0.2,
             "#de77ae"
            ],
            [
             0.3,
             "#f1b6da"
            ],
            [
             0.4,
             "#fde0ef"
            ],
            [
             0.5,
             "#f7f7f7"
            ],
            [
             0.6,
             "#e6f5d0"
            ],
            [
             0.7,
             "#b8e186"
            ],
            [
             0.8,
             "#7fbc41"
            ],
            [
             0.9,
             "#4d9221"
            ],
            [
             1,
             "#276419"
            ]
           ],
           "sequential": [
            [
             0,
             "#0d0887"
            ],
            [
             0.1111111111111111,
             "#46039f"
            ],
            [
             0.2222222222222222,
             "#7201a8"
            ],
            [
             0.3333333333333333,
             "#9c179e"
            ],
            [
             0.4444444444444444,
             "#bd3786"
            ],
            [
             0.5555555555555556,
             "#d8576b"
            ],
            [
             0.6666666666666666,
             "#ed7953"
            ],
            [
             0.7777777777777778,
             "#fb9f3a"
            ],
            [
             0.8888888888888888,
             "#fdca26"
            ],
            [
             1,
             "#f0f921"
            ]
           ],
           "sequentialminus": [
            [
             0,
             "#0d0887"
            ],
            [
             0.1111111111111111,
             "#46039f"
            ],
            [
             0.2222222222222222,
             "#7201a8"
            ],
            [
             0.3333333333333333,
             "#9c179e"
            ],
            [
             0.4444444444444444,
             "#bd3786"
            ],
            [
             0.5555555555555556,
             "#d8576b"
            ],
            [
             0.6666666666666666,
             "#ed7953"
            ],
            [
             0.7777777777777778,
             "#fb9f3a"
            ],
            [
             0.8888888888888888,
             "#fdca26"
            ],
            [
             1,
             "#f0f921"
            ]
           ]
          },
          "colorway": [
           "#636efa",
           "#EF553B",
           "#00cc96",
           "#ab63fa",
           "#FFA15A",
           "#19d3f3",
           "#FF6692",
           "#B6E880",
           "#FF97FF",
           "#FECB52"
          ],
          "font": {
           "color": "#2a3f5f"
          },
          "geo": {
           "bgcolor": "white",
           "lakecolor": "white",
           "landcolor": "#E5ECF6",
           "showlakes": true,
           "showland": true,
           "subunitcolor": "white"
          },
          "hoverlabel": {
           "align": "left"
          },
          "hovermode": "closest",
          "mapbox": {
           "style": "light"
          },
          "paper_bgcolor": "white",
          "plot_bgcolor": "#E5ECF6",
          "polar": {
           "angularaxis": {
            "gridcolor": "white",
            "linecolor": "white",
            "ticks": ""
           },
           "bgcolor": "#E5ECF6",
           "radialaxis": {
            "gridcolor": "white",
            "linecolor": "white",
            "ticks": ""
           }
          },
          "scene": {
           "xaxis": {
            "backgroundcolor": "#E5ECF6",
            "gridcolor": "white",
            "gridwidth": 2,
            "linecolor": "white",
            "showbackground": true,
            "ticks": "",
            "zerolinecolor": "white"
           },
           "yaxis": {
            "backgroundcolor": "#E5ECF6",
            "gridcolor": "white",
            "gridwidth": 2,
            "linecolor": "white",
            "showbackground": true,
            "ticks": "",
            "zerolinecolor": "white"
           },
           "zaxis": {
            "backgroundcolor": "#E5ECF6",
            "gridcolor": "white",
            "gridwidth": 2,
            "linecolor": "white",
            "showbackground": true,
            "ticks": "",
            "zerolinecolor": "white"
           }
          },
          "shapedefaults": {
           "line": {
            "color": "#2a3f5f"
           }
          },
          "ternary": {
           "aaxis": {
            "gridcolor": "white",
            "linecolor": "white",
            "ticks": ""
           },
           "baxis": {
            "gridcolor": "white",
            "linecolor": "white",
            "ticks": ""
           },
           "bgcolor": "#E5ECF6",
           "caxis": {
            "gridcolor": "white",
            "linecolor": "white",
            "ticks": ""
           }
          },
          "title": {
           "x": 0.05
          },
          "xaxis": {
           "automargin": true,
           "gridcolor": "white",
           "linecolor": "white",
           "ticks": "",
           "title": {
            "standoff": 15
           },
           "zerolinecolor": "white",
           "zerolinewidth": 2
          },
          "yaxis": {
           "automargin": true,
           "gridcolor": "white",
           "linecolor": "white",
           "ticks": "",
           "title": {
            "standoff": 15
           },
           "zerolinecolor": "white",
           "zerolinewidth": 2
          }
         }
        },
        "title": {
         "text": "Multi-Level Pie Chart of Discount by Region"
        },
        "width": 600
       }
      }
     },
     "metadata": {},
     "output_type": "display_data"
    }
   ],
   "source": [
    "fig = px.sunburst(\n",
    "    aggregated_df,\n",
    "    path=['Region', 'Percentage'],\n",
    "    values='Count',\n",
    "    color='Discount_Category',\n",
    "    color_discrete_map={\n",
    "        'None': 'lightgreen',\n",
    "        'Low': 'lightblue',\n",
    "        'Medium': 'orange',\n",
    "        'High': 'red'\n",
    "    }\n",
    ")\n",
    "fig.update_layout(title=\"Multi-Level Pie Chart of Discount by Region\",\n",
    "    width =600,\n",
    "    height =600)\n",
    "fig.add_annotation(\n",
    "    x=1.15, y=1.05, text=\"Legend\", showarrow=False, font=dict(size=1)\n",
    ")\n",
    "fig.add_annotation(\n",
    "    x=1.15, y=1.0, text=\"None (<1%)\", showarrow=False, bgcolor=\"lightgreen\",\n",
    "    font=dict(color=\"black\")\n",
    ")\n",
    "fig.add_annotation(\n",
    "    x=1.15, y=0.95, text=\"Low (1%-25%)\", showarrow=False, bgcolor=\"lightblue\",\n",
    "    font=dict(color=\"black\")\n",
    ")\n",
    "fig.add_annotation(\n",
    "    x=1.15, y=0.9, text=\"Medium (25%-50%)\", showarrow=False, bgcolor=\"orange\",\n",
    "    font=dict(color=\"black\")\n",
    ")\n",
    "fig.add_annotation(\n",
    "    x=1.15, y=0.85, text=\"High (>50%)\", showarrow=False, bgcolor=\"red\",\n",
    "    font=dict(color=\"white\")\n",
    ")\n",
    "\n",
    "fig.show()"
   ]
  },
  {
   "cell_type": "markdown",
   "metadata": {},
   "source": [
    "After that, we will show the distribution of the profit for each category of discount on the column Industry and Segment"
   ]
  },
  {
   "cell_type": "markdown",
   "metadata": {},
   "source": [
    "* Industry"
   ]
  },
  {
   "cell_type": "code",
   "execution_count": 41,
   "metadata": {},
   "outputs": [
    {
     "data": {
      "image/png": "[encoded data removed]",
      "text/plain": [
       "<Figure size 720x432 with 1 Axes>"
      ]
     },
     "metadata": {
      "needs_background": "light"
     },
     "output_type": "display_data"
    }
   ],
   "source": [
    "discount_order = ['None', 'Low', 'Medium', 'High']\n",
    "df['Discount_Category'] = pd.Categorical(df['Discount_Category'], categories=discount_order, ordered=True)\n",
    "\n",
    "pivot_df = df.pivot_table(index='Industry', columns='Discount_Category', aggfunc='size', fill_value=0)\n",
    "\n",
    "# Plot stacked bar chart\n",
    "pivot_df.plot(kind='bar', stacked=True, figsize=(10, 6))\n",
    "plt.title(\"Distribution of Discount Categories by Industry\")\n",
    "plt.xlabel(\"Industry\")\n",
    "plt.ylabel(\"Count\")\n",
    "plt.legend(title=\"Discount Category\")\n",
    "plt.show()"
   ]
  },
  {
   "cell_type": "code",
   "execution_count": 42,
   "metadata": {},
   "outputs": [
    {
     "data": {
      "image/png": "[encoded data removed]",
      "text/plain": [
       "<Figure size 1440x864 with 1 Axes>"
      ]
     },
     "metadata": {
      "needs_background": "light"
     },
     "output_type": "display_data"
    }
   ],
   "source": [
    "plt.figure(figsize=(20, 12))\n",
    "sns.violinplot(x='Discount_Category', y='Profit_winsorized', hue='Industry', data=df, split=True, inner='quart', palette='Set2')\n",
    "\n",
    "# Menambahkan judul dan label sumbu\n",
    "plt.title('Profit distribution based on Discount and Industry', fontsize=15)\n",
    "plt.xlabel('Discount Category', fontsize=12)\n",
    "plt.ylabel('Profit', fontsize=12)\n",
    "\n",
    "# Menampilkan plot\n",
    "plt.show()"
   ]
  },
  {
   "cell_type": "markdown",
   "metadata": {},
   "source": [
    "Based on the both chart, almost all category of Industry have negative skew for the medium and high discount, which means it can reduce profit even to losses. So, we have to consider to reduce to give medium or high discount for each category on industry."
   ]
  },
  {
   "cell_type": "markdown",
   "metadata": {},
   "source": [
    "* Segment"
   ]
  },
  {
   "cell_type": "code",
   "execution_count": 43,
   "metadata": {},
   "outputs": [
    {
     "data": {
      "image/png": "[encoded data removed]",
      "text/plain": [
       "<Figure size 720x432 with 1 Axes>"
      ]
     },
     "metadata": {
      "needs_background": "light"
     },
     "output_type": "display_data"
    }
   ],
   "source": [
    "pivot_df2 = df.pivot_table(index='Segment', columns='Discount_Category', aggfunc='size', fill_value=0)\n",
    "\n",
    "# Plot stacked bar chart\n",
    "pivot_df2.plot(kind='bar', stacked=True, figsize=(10, 6))\n",
    "plt.title(\"Distribution of Discount Categories by Segment\")\n",
    "plt.xlabel(\"Segment\")\n",
    "plt.ylabel(\"Count\")\n",
    "plt.legend(title=\"Discount Category\")\n",
    "plt.show()"
   ]
  },
  {
   "cell_type": "code",
   "execution_count": 44,
   "metadata": {},
   "outputs": [
    {
     "data": {
      "image/png": "[encoded data removed]",
      "text/plain": [
       "<Figure size 720x432 with 1 Axes>"
      ]
     },
     "metadata": {
      "needs_background": "light"
     },
     "output_type": "display_data"
    }
   ],
   "source": [
    "plt.figure(figsize=(10, 6))\n",
    "sns.violinplot(x='Discount_Category', y='Profit_winsorized', hue='Segment', data=df, split=True, inner='quart', palette='Set2')\n",
    "\n",
    "# Menambahkan judul dan label sumbu\n",
    "plt.title('Distribusi Profit berdasarkan Discount dan Segment', fontsize=15)\n",
    "plt.xlabel('Kategori Discount', fontsize=12)\n",
    "plt.ylabel('Profit', fontsize=12)\n",
    "\n",
    "# Menampilkan plot\n",
    "plt.show()"
   ]
  },
  {
   "cell_type": "markdown",
   "metadata": {},
   "source": [
    "For the segment column, medium and high category also give extreme negative skew to profit and then for the low category, we also have to consider to reduce or remove the discount for SMB and Strategic segment."
   ]
  },
  {
   "cell_type": "markdown",
   "metadata": {},
   "source": [
    "Next, we will show the distribution of the correlation between Profit and Discount for each country. The lowest index value (most negative) show that the discount effect negative profit and have to consider to remove or reduce the discount from the country"
   ]
  },
  {
   "cell_type": "code",
   "execution_count": 45,
   "metadata": {},
   "outputs": [
    {
     "name": "stderr",
     "output_type": "stream",
     "text": [
      "<ipython-input-45-d1444bbfc0cf>:5: FutureWarning:\n",
      "\n",
      "\n",
      "\n",
      "Passing `palette` without assigning `hue` is deprecated and will be removed in v0.14.0. Assign the `y` variable to `hue` and set `legend=False` for the same effect.\n",
      "\n",
      "\n"
     ]
    },
    {
     "data": {
      "image/png": "[encoded data removed]",
      "text/plain": [
       "<Figure size 720x864 with 1 Axes>"
      ]
     },
     "metadata": {
      "needs_background": "light"
     },
     "output_type": "display_data"
    }
   ],
   "source": [
    "correlation_per_country = df.groupby('Country').apply(lambda x: x[['Profit_winsorized', 'Discount']].corr(method='spearman').iloc[0, 1]).reset_index(name='Correlation')\n",
    "\n",
    "plt.figure(figsize=(10, 12))\n",
    "\n",
    "sns.barplot(x='Correlation', y='Country', data=correlation_per_country, palette='Set1')\n",
    "plt.title('Koefisien Korelasi Spearman antara Profit dan Discount per Negara', fontsize=15)\n",
    "plt.xlabel('Koefisien Korelasi', fontsize=12)\n",
    "plt.ylabel('Negara', fontsize=12)\n",
    "\n",
    "# Menampilkan plot\n",
    "plt.tight_layout()\n",
    "plt.show()"
   ]
  },
  {
   "cell_type": "markdown",
   "metadata": {},
   "source": [
    "All factors that are directly correlated with discounts and also impact profit should be carefully examined. We need to adjust our discount strategy, as excessive discounting can reduce profit even to losses. Special attention should be given to factors associated with the highest discounts, as they may have the greatest effect on profit margins."
   ]
  },
  {
   "cell_type": "markdown",
   "metadata": {},
   "source": [
    "Next, in addition, for the categorical data, we will examine the unique values in each column."
   ]
  },
  {
   "cell_type": "code",
   "execution_count": 46,
   "metadata": {},
   "outputs": [
    {
     "data": {
      "text/html": [
       "<div>\n",
       "<style scoped>\n",
       "    .dataframe tbody tr th:only-of-type {\n",
       "        vertical-align: middle;\n",
       "    }\n",
       "\n",
       "    .dataframe tbody tr th {\n",
       "        vertical-align: top;\n",
       "    }\n",
       "\n",
       "    .dataframe thead th {\n",
       "        text-align: right;\n",
       "    }\n",
       "</style>\n",
       "<table border=\"1\" class=\"dataframe\">\n",
       "  <thead>\n",
       "    <tr style=\"text-align: right;\">\n",
       "      <th></th>\n",
       "      <th>Column</th>\n",
       "      <th>Count of unique values</th>\n",
       "    </tr>\n",
       "  </thead>\n",
       "  <tbody>\n",
       "    <tr>\n",
       "      <th>0</th>\n",
       "      <td>Contact Name</td>\n",
       "      <td>793</td>\n",
       "    </tr>\n",
       "    <tr>\n",
       "      <th>1</th>\n",
       "      <td>Country</td>\n",
       "      <td>48</td>\n",
       "    </tr>\n",
       "    <tr>\n",
       "      <th>2</th>\n",
       "      <td>City</td>\n",
       "      <td>262</td>\n",
       "    </tr>\n",
       "    <tr>\n",
       "      <th>3</th>\n",
       "      <td>Region</td>\n",
       "      <td>3</td>\n",
       "    </tr>\n",
       "    <tr>\n",
       "      <th>4</th>\n",
       "      <td>Subregion</td>\n",
       "      <td>12</td>\n",
       "    </tr>\n",
       "    <tr>\n",
       "      <th>5</th>\n",
       "      <td>Customer</td>\n",
       "      <td>99</td>\n",
       "    </tr>\n",
       "    <tr>\n",
       "      <th>6</th>\n",
       "      <td>Industry</td>\n",
       "      <td>10</td>\n",
       "    </tr>\n",
       "    <tr>\n",
       "      <th>7</th>\n",
       "      <td>Segment</td>\n",
       "      <td>3</td>\n",
       "    </tr>\n",
       "    <tr>\n",
       "      <th>8</th>\n",
       "      <td>Product</td>\n",
       "      <td>14</td>\n",
       "    </tr>\n",
       "  </tbody>\n",
       "</table>\n",
       "</div>"
      ],
      "text/plain": [
       "         Column  Count of unique values\n",
       "0  Contact Name                     793\n",
       "1       Country                      48\n",
       "2          City                     262\n",
       "3        Region                       3\n",
       "4     Subregion                      12\n",
       "5      Customer                      99\n",
       "6      Industry                      10\n",
       "7       Segment                       3\n",
       "8       Product                      14"
      ]
     },
     "execution_count": 46,
     "metadata": {},
     "output_type": "execute_result"
    }
   ],
   "source": [
    "col_unique = ['Contact Name','Country','City','Region','Subregion','Customer','Industry','Segment','Product']\n",
    "num_unique = [df[i].nunique() for i in col_unique]\n",
    "\n",
    "pd.DataFrame({'Column' : col_unique, 'Count of unique values' : num_unique })"
   ]
  },
  {
   "cell_type": "markdown",
   "metadata": {},
   "source": [
    "We use only the columns 'Region,' 'Subregion,' 'Industry,' 'Segment,' and 'Product' for profit analysis, as each has fewer than 15 unique values."
   ]
  },
  {
   "cell_type": "markdown",
   "metadata": {},
   "source": [
    "In this section, we will analysize, what columns that effect on Profit"
   ]
  },
  {
   "cell_type": "code",
   "execution_count": 47,
   "metadata": {},
   "outputs": [],
   "source": [
    "col_profit_analysis = ['Region','Subregion','Industry','Segment','Product']\n",
    "total_profit = []\n",
    "median_profit = []\n",
    "for i in col_profit_analysis:\n",
    "    total_ = df.groupby(i)['Profit_winsorized'].sum()\n",
    "    median_ = df.groupby(i)['Profit_winsorized'].median()\n",
    "    total_profit.append(total_)\n",
    "    median_profit.append(median_)"
   ]
  },
  {
   "cell_type": "code",
   "execution_count": 48,
   "metadata": {},
   "outputs": [
    {
     "data": {
      "image/png": "[encoded data removed]",
      "text/plain": [
       "<Figure size 720x576 with 2 Axes>"
      ]
     },
     "metadata": {},
     "output_type": "display_data"
    },
    {
     "data": {
      "image/png": "[encoded data removed]",
      "text/plain": [
       "<Figure size 720x576 with 2 Axes>"
      ]
     },
     "metadata": {},
     "output_type": "display_data"
    },
    {
     "data": {
      "image/png": "[encoded data removed]",
      "text/plain": [
       "<Figure size 720x576 with 2 Axes>"
      ]
     },
     "metadata": {},
     "output_type": "display_data"
    },
    {
     "data": {
      "image/png": "[encoded data removed]",
      "text/plain": [
       "<Figure size 720x576 with 2 Axes>"
      ]
     },
     "metadata": {},
     "output_type": "display_data"
    },
    {
     "data": {
      "image/png": "[encoded data removed]",
      "text/plain": [
       "<Figure size 720x576 with 2 Axes>"
      ]
     },
     "metadata": {},
     "output_type": "display_data"
    }
   ],
   "source": [
    "\n",
    "for i in range(len(col_profit_analysis)):\n",
    "    total_profit_ = total_profit[i]\n",
    "    median_profit_ = median_profit[i]\n",
    "    x = np.arange(len(total_profit_.index))\n",
    "\n",
    "    # Membuat figure dan axis\n",
    "    fig, ax = plt.subplots(figsize=(10, 8), facecolor='white')\n",
    "    fig.suptitle(f'Total Profit and Median Profit by {col_profit_analysis[i]}', fontsize=16)\n",
    "\n",
    "    # Bar chart untuk Total Profit\n",
    "    ax.bar(x - 0.2, total_profit_.values, width=0.4, color='skyblue', label='Total Profit')\n",
    "    ax.set_xlabel(col_profit_analysis[i])\n",
    "    ax.set_ylabel('Total Profit', color='skyblue')\n",
    "    ax.tick_params(axis='y', labelcolor='skyblue')\n",
    "    ax.set_xticks(x)\n",
    "    ax.set_xticklabels(total_profit_.index, rotation=45, ha='right')\n",
    "\n",
    "    # Bar chart untuk Median Profit di sumbu y kedua\n",
    "    ax2 = ax.twinx()\n",
    "    ax2.bar(x + 0.2, median_profit_.values, width=0.4, color='red', label='Median Profit')\n",
    "    ax2.set_ylabel('Median Profit', color='red')\n",
    "    ax2.tick_params(axis='y', labelcolor='red')\n",
    "\n",
    "    # Menambahkan layout agar tidak bertumpuk\n",
    "    plt.tight_layout(rect=[0, 0.03, 1, 0.95]) \n",
    "    plt.show()"
   ]
  },
  {
   "cell_type": "markdown",
   "metadata": {},
   "source": [
    "We use the Kruskal test on each column for deeper analysis to determine whether there is any significant difference between the categories."
   ]
  },
  {
   "cell_type": "code",
   "execution_count": 49,
   "metadata": {},
   "outputs": [],
   "source": [
    "alpha = 0.05"
   ]
  },
  {
   "cell_type": "markdown",
   "metadata": {},
   "source": [
    "* Region"
   ]
  },
  {
   "cell_type": "code",
   "execution_count": 50,
   "metadata": {},
   "outputs": [
    {
     "name": "stdout",
     "output_type": "stream",
     "text": [
      "Kruskal-Wallis Test Statistic: 325.47806159991774\n",
      "p-value: 2.105411221355629e-71\n",
      "There is a significant difference in median profit between Region groups\n"
     ]
    }
   ],
   "source": [
    "stat, p_value = stats.kruskal(*[df[df['Region']== region]['Profit_winsorized'] for region in df['Region'].unique()])\n",
    "\n",
    "print(\"Kruskal-Wallis Test Statistic:\", stat)\n",
    "print(\"p-value:\", p_value)\n",
    "\n",
    "if p_value < alpha:\n",
    "    print(\"There is a significant difference in median profit between Region groups\")\n",
    "else:\n",
    "    print(\"There is no significant difference in median profit between Region groups\")"
   ]
  },
  {
   "cell_type": "markdown",
   "metadata": {},
   "source": [
    "* Subregion"
   ]
  },
  {
   "cell_type": "code",
   "execution_count": 51,
   "metadata": {},
   "outputs": [
    {
     "name": "stdout",
     "output_type": "stream",
     "text": [
      "Kruskal-Wallis Test Statistic: 1380.7244374662512\n",
      "p-value: 1.7350967162404567e-289\n",
      "There is a significant difference in median profit between Subregion groups\n"
     ]
    }
   ],
   "source": [
    "stat, p_value = stats.kruskal(*[df[df['Subregion']== subregion]['Profit_winsorized'] for subregion in df['Subregion'].unique()])\n",
    "\n",
    "print(\"Kruskal-Wallis Test Statistic:\", stat)\n",
    "print(\"p-value:\", p_value)\n",
    "\n",
    "if p_value < alpha:\n",
    "    print(\"There is a significant difference in median profit between Subregion groups\")\n",
    "else:\n",
    "    print(\"There is no significant difference in median profit between Subregion groups\")"
   ]
  },
  {
   "cell_type": "markdown",
   "metadata": {},
   "source": [
    "* Industry"
   ]
  },
  {
   "cell_type": "code",
   "execution_count": 52,
   "metadata": {},
   "outputs": [
    {
     "name": "stdout",
     "output_type": "stream",
     "text": [
      "Kruskal-Wallis Test Statistic: 23.957533346297108\n",
      "p-value: 0.004368957077092857\n",
      "There is a significant difference in median profit between Industry groups\n"
     ]
    }
   ],
   "source": [
    "stat, p_value = stats.kruskal(*[df[df['Industry']== industry]['Profit_winsorized'] for industry in df['Industry'].unique()])\n",
    "\n",
    "print(\"Kruskal-Wallis Test Statistic:\", stat)\n",
    "print(\"p-value:\", p_value)\n",
    "\n",
    "if p_value < alpha:\n",
    "    print(\"There is a significant difference in median profit between Industry groups\")\n",
    "else:\n",
    "    print(\"There is no significant difference in median profit between Industry groups\")"
   ]
  },
  {
   "cell_type": "markdown",
   "metadata": {},
   "source": [
    "For this column, based on the statistic test above, there is a significant difference between industry group. But, if we remove the 3 bottom total profit (see the bar chart), we will get the different result as the following below:"
   ]
  },
  {
   "cell_type": "code",
   "execution_count": 53,
   "metadata": {},
   "outputs": [
    {
     "name": "stdout",
     "output_type": "stream",
     "text": [
      "Kruskal-Wallis Test Statistic: 12.5390283269569\n",
      "p-value: 0.05096907176892044\n",
      "There is no significant difference in median profit between Industry groups\n"
     ]
    }
   ],
   "source": [
    "stat, p_value = stats.kruskal(*[df[df['Industry']== industry]['Profit_winsorized'] for industry in df['Industry'].unique() if industry not in ['Misc','Transportation','Communications']])\n",
    "\n",
    "print(\"Kruskal-Wallis Test Statistic:\", stat)\n",
    "print(\"p-value:\", p_value)\n",
    "\n",
    "if p_value < alpha:\n",
    "    print(\"There is a significant difference in median profit between Industry groups\")\n",
    "else:\n",
    "    print(\"There is no significant difference in median profit between Industry groups\")"
   ]
  },
  {
   "cell_type": "markdown",
   "metadata": {},
   "source": [
    "So, outside of the 3 group ['Misc','Transportation','Communications'], each group in the column Industry is no significant difference in median profit."
   ]
  },
  {
   "cell_type": "markdown",
   "metadata": {},
   "source": [
    "* Segment"
   ]
  },
  {
   "cell_type": "code",
   "execution_count": 54,
   "metadata": {},
   "outputs": [
    {
     "name": "stdout",
     "output_type": "stream",
     "text": [
      "Kruskal-Wallis Test Statistic: 4.372237096494942\n",
      "p-value: 0.11235199221947198\n",
      "There is no significant difference in median profit between Segment groups\n"
     ]
    }
   ],
   "source": [
    "stat, p_value = stats.kruskal(*[df[df['Segment']== segment]['Profit_winsorized'] for segment in df['Segment'].unique()])\n",
    "\n",
    "print(\"Kruskal-Wallis Test Statistic:\", stat)\n",
    "print(\"p-value:\", p_value)\n",
    "\n",
    "if p_value < alpha:\n",
    "    print(\"There is a significant difference in median profit between Segment groups\")\n",
    "else:\n",
    "    print(\"There is no significant difference in median profit between Segment groups\")"
   ]
  },
  {
   "cell_type": "markdown",
   "metadata": {},
   "source": [
    "* Product"
   ]
  },
  {
   "cell_type": "code",
   "execution_count": 55,
   "metadata": {},
   "outputs": [
    {
     "name": "stdout",
     "output_type": "stream",
     "text": [
      "Kruskal-Wallis Test Statistic: 1086.8975770661962\n",
      "p-value: 3.730374144339591e-224\n",
      "There is a significant difference in median profit between Product groups\n"
     ]
    }
   ],
   "source": [
    "stat, p_value = stats.kruskal(*[df[df['Product']== product]['Profit_winsorized'] for product in df['Product'].unique()])\n",
    "\n",
    "print(\"Kruskal-Wallis Test Statistic:\", stat)\n",
    "print(\"p-value:\", p_value)\n",
    "\n",
    "if p_value < alpha:\n",
    "    print(\"There is a significant difference in median profit between Product groups\")\n",
    "else:\n",
    "    print(\"There is no significant difference in median profit between Product groups\")"
   ]
  },
  {
   "cell_type": "markdown",
   "metadata": {},
   "source": [
    "For the hypothesis testing, we conclude that the columns Region, Subregion, and Product show a significant difference in median profit across each group or category. This indicates that these columns can help identify which categories have a greater or lesser impact on profit, allowing us to strategize effectively for the future. However, for the next stage of analysis, we will focus solely on the Product column, as Region and Subregion have already been analyzed in previous sections."
   ]
  },
  {
   "cell_type": "markdown",
   "metadata": {},
   "source": [
    "The below, we try to create the new metric to evaluate each product based on the profit"
   ]
  },
  {
   "cell_type": "code",
   "execution_count": 56,
   "metadata": {},
   "outputs": [
    {
     "data": {
      "text/html": [
       "<div>\n",
       "<style scoped>\n",
       "    .dataframe tbody tr th:only-of-type {\n",
       "        vertical-align: middle;\n",
       "    }\n",
       "\n",
       "    .dataframe tbody tr th {\n",
       "        vertical-align: top;\n",
       "    }\n",
       "\n",
       "    .dataframe thead th {\n",
       "        text-align: right;\n",
       "    }\n",
       "</style>\n",
       "<table border=\"1\" class=\"dataframe\">\n",
       "  <thead>\n",
       "    <tr style=\"text-align: right;\">\n",
       "      <th></th>\n",
       "      <th>Product</th>\n",
       "      <th>median</th>\n",
       "      <th>MAD</th>\n",
       "      <th>count_positive</th>\n",
       "      <th>count_negative</th>\n",
       "      <th>min_profit</th>\n",
       "      <th>max_profit</th>\n",
       "      <th>total_profit</th>\n",
       "    </tr>\n",
       "  </thead>\n",
       "  <tbody>\n",
       "    <tr>\n",
       "      <th>0</th>\n",
       "      <td>Site Analytics</td>\n",
       "      <td>23.52480</td>\n",
       "      <td>22.92540</td>\n",
       "      <td>753</td>\n",
       "      <td>136</td>\n",
       "      <td>-386.3916</td>\n",
       "      <td>843.1706</td>\n",
       "      <td>44063.9113</td>\n",
       "    </tr>\n",
       "    <tr>\n",
       "      <th>1</th>\n",
       "      <td>Data Smasher</td>\n",
       "      <td>21.00000</td>\n",
       "      <td>19.34400</td>\n",
       "      <td>684</td>\n",
       "      <td>91</td>\n",
       "      <td>-75.5958</td>\n",
       "      <td>829.3754</td>\n",
       "      <td>41936.6357</td>\n",
       "    </tr>\n",
       "    <tr>\n",
       "      <th>2</th>\n",
       "      <td>Support</td>\n",
       "      <td>10.03440</td>\n",
       "      <td>6.40560</td>\n",
       "      <td>1527</td>\n",
       "      <td>33</td>\n",
       "      <td>-509.9970</td>\n",
       "      <td>352.2960</td>\n",
       "      <td>33679.8308</td>\n",
       "    </tr>\n",
       "    <tr>\n",
       "      <th>3</th>\n",
       "      <td>FinanceHub</td>\n",
       "      <td>7.76880</td>\n",
       "      <td>16.86180</td>\n",
       "      <td>746</td>\n",
       "      <td>235</td>\n",
       "      <td>-509.9970</td>\n",
       "      <td>770.3520</td>\n",
       "      <td>32257.3053</td>\n",
       "    </tr>\n",
       "    <tr>\n",
       "      <th>4</th>\n",
       "      <td>Alchemy</td>\n",
       "      <td>332.99420</td>\n",
       "      <td>223.99790</td>\n",
       "      <td>68</td>\n",
       "      <td>0</td>\n",
       "      <td>59.9980</td>\n",
       "      <td>843.1706</td>\n",
       "      <td>28818.5627</td>\n",
       "    </tr>\n",
       "    <tr>\n",
       "      <th>5</th>\n",
       "      <td>Marketing Suite - Gold</td>\n",
       "      <td>7.75700</td>\n",
       "      <td>9.61860</td>\n",
       "      <td>685</td>\n",
       "      <td>161</td>\n",
       "      <td>-337.8060</td>\n",
       "      <td>792.2691</td>\n",
       "      <td>21278.8264</td>\n",
       "    </tr>\n",
       "    <tr>\n",
       "      <th>6</th>\n",
       "      <td>OneView</td>\n",
       "      <td>17.44650</td>\n",
       "      <td>16.89180</td>\n",
       "      <td>399</td>\n",
       "      <td>67</td>\n",
       "      <td>-509.9970</td>\n",
       "      <td>793.7160</td>\n",
       "      <td>19065.3058</td>\n",
       "    </tr>\n",
       "    <tr>\n",
       "      <th>7</th>\n",
       "      <td>SaaS Connector Pack</td>\n",
       "      <td>9.10200</td>\n",
       "      <td>8.03400</td>\n",
       "      <td>790</td>\n",
       "      <td>167</td>\n",
       "      <td>-427.4500</td>\n",
       "      <td>387.5676</td>\n",
       "      <td>13059.1436</td>\n",
       "    </tr>\n",
       "    <tr>\n",
       "      <th>8</th>\n",
       "      <td>ContactMatcher</td>\n",
       "      <td>3.14760</td>\n",
       "      <td>13.67610</td>\n",
       "      <td>1026</td>\n",
       "      <td>816</td>\n",
       "      <td>-509.9970</td>\n",
       "      <td>843.1706</td>\n",
       "      <td>12842.5630</td>\n",
       "    </tr>\n",
       "    <tr>\n",
       "      <th>9</th>\n",
       "      <td>Big Ol Database</td>\n",
       "      <td>38.99740</td>\n",
       "      <td>176.99990</td>\n",
       "      <td>71</td>\n",
       "      <td>44</td>\n",
       "      <td>-509.9970</td>\n",
       "      <td>843.1706</td>\n",
       "      <td>9337.1142</td>\n",
       "    </tr>\n",
       "    <tr>\n",
       "      <th>10</th>\n",
       "      <td>SaaS Connector Pack - Gold</td>\n",
       "      <td>12.71835</td>\n",
       "      <td>8.44845</td>\n",
       "      <td>254</td>\n",
       "      <td>0</td>\n",
       "      <td>0.5508</td>\n",
       "      <td>204.0714</td>\n",
       "      <td>6964.1767</td>\n",
       "    </tr>\n",
       "    <tr>\n",
       "      <th>11</th>\n",
       "      <td>ChatBot Plugin</td>\n",
       "      <td>3.72360</td>\n",
       "      <td>2.56800</td>\n",
       "      <td>796</td>\n",
       "      <td>0</td>\n",
       "      <td>0.1533</td>\n",
       "      <td>112.5740</td>\n",
       "      <td>6527.7870</td>\n",
       "    </tr>\n",
       "    <tr>\n",
       "      <th>12</th>\n",
       "      <td>Storage</td>\n",
       "      <td>2.84160</td>\n",
       "      <td>2.37100</td>\n",
       "      <td>205</td>\n",
       "      <td>12</td>\n",
       "      <td>-11.8256</td>\n",
       "      <td>21.8880</td>\n",
       "      <td>949.5182</td>\n",
       "    </tr>\n",
       "    <tr>\n",
       "      <th>13</th>\n",
       "      <td>Marketing Suite</td>\n",
       "      <td>4.13330</td>\n",
       "      <td>39.24690</td>\n",
       "      <td>119</td>\n",
       "      <td>109</td>\n",
       "      <td>-509.9970</td>\n",
       "      <td>843.1706</td>\n",
       "      <td>-2210.7102</td>\n",
       "    </tr>\n",
       "  </tbody>\n",
       "</table>\n",
       "</div>"
      ],
      "text/plain": [
       "                       Product     median        MAD  count_positive  \\\n",
       "0               Site Analytics   23.52480   22.92540             753   \n",
       "1                 Data Smasher   21.00000   19.34400             684   \n",
       "2                      Support   10.03440    6.40560            1527   \n",
       "3                   FinanceHub    7.76880   16.86180             746   \n",
       "4                      Alchemy  332.99420  223.99790              68   \n",
       "5       Marketing Suite - Gold    7.75700    9.61860             685   \n",
       "6                      OneView   17.44650   16.89180             399   \n",
       "7          SaaS Connector Pack    9.10200    8.03400             790   \n",
       "8               ContactMatcher    3.14760   13.67610            1026   \n",
       "9              Big Ol Database   38.99740  176.99990              71   \n",
       "10  SaaS Connector Pack - Gold   12.71835    8.44845             254   \n",
       "11              ChatBot Plugin    3.72360    2.56800             796   \n",
       "12                     Storage    2.84160    2.37100             205   \n",
       "13             Marketing Suite    4.13330   39.24690             119   \n",
       "\n",
       "    count_negative  min_profit  max_profit  total_profit  \n",
       "0              136   -386.3916    843.1706    44063.9113  \n",
       "1               91    -75.5958    829.3754    41936.6357  \n",
       "2               33   -509.9970    352.2960    33679.8308  \n",
       "3              235   -509.9970    770.3520    32257.3053  \n",
       "4                0     59.9980    843.1706    28818.5627  \n",
       "5              161   -337.8060    792.2691    21278.8264  \n",
       "6               67   -509.9970    793.7160    19065.3058  \n",
       "7              167   -427.4500    387.5676    13059.1436  \n",
       "8              816   -509.9970    843.1706    12842.5630  \n",
       "9               44   -509.9970    843.1706     9337.1142  \n",
       "10               0      0.5508    204.0714     6964.1767  \n",
       "11               0      0.1533    112.5740     6527.7870  \n",
       "12              12    -11.8256     21.8880      949.5182  \n",
       "13             109   -509.9970    843.1706    -2210.7102  "
      ]
     },
     "execution_count": 56,
     "metadata": {},
     "output_type": "execute_result"
    }
   ],
   "source": [
    "profit_stats = df.groupby('Product')['Profit_winsorized'].agg(\n",
    "    median='median',\n",
    "    MAD=lambda x: np.median(np.abs(x - np.median(x))),\n",
    "    count_positive=lambda x: (x >= 0).sum(),\n",
    "    count_negative=lambda x: (x < 0).sum(),\n",
    "    min_profit='min',\n",
    "    max_profit='max',\n",
    "    total_profit='sum'\n",
    ").sort_values(by='total_profit', ascending=False).reset_index()\n",
    "\n",
    "# Menampilkan hasil\n",
    "profit_stats"
   ]
  },
  {
   "cell_type": "markdown",
   "metadata": {},
   "source": [
    "Here are brief descriptions of each metric:\n",
    "\n",
    "* Median: The middle value of the profit distribution when sorted, representing the central tendency of the data.\n",
    "* MAD (Median Absolute Deviation): A measure of variability, showing the average absolute deviation from the median. It helps assess how spread out the data is around the median.\n",
    "* Count Positive: The number of transactions where profit is positive (include non negative, 0), indicating the frequency of profitable outcomes.\n",
    "* Count Negative: The number of transactions where profit is negative, indicating how often the business experiences losses.\n",
    "* Min Profit: The lowest profit value in the dataset, showing the minimum level of profitability for each product.\n",
    "* Max Profit: The highest profit value in the dataset, showing the maximum profitability achieved for each product.\n",
    "* Total Profit: The sum of all profit values, representing the overall profit generated by each product."
   ]
  },
  {
   "cell_type": "markdown",
   "metadata": {},
   "source": [
    "In this section, we will explore various key metrics that highlight the performance and variability of profits across different products. The following visualizations provide insights into:\n",
    "\n",
    "1. Total Profit: We will examine the top and bottom 5 products based on their total profit, helping us identify the most and least profitable products.\n",
    "2. Median Profit: This metric shows the central tendency of profits, and we will explore the products with the highest and lowest median profit.\n",
    "3. Median Absolute Deviation (MAD): MAD reflects the consistency of profit for each product. A higher MAD indicates greater variability in profit.\n",
    "4. Count of Positive vs. Negative Transactions: We will analyze the number of profitable (positive) and unprofitable (negative) transactions per product, giving us an understanding of how often each product yields profitable versus unprofitable outcomes.\n",
    "\n",
    "Each chart will highlight the contrast between the top and bottom-performing products based on these metrics, allowing us to pinpoint areas for potential improvement and risk management."
   ]
  },
  {
   "cell_type": "code",
   "execution_count": 63,
   "metadata": {},
   "outputs": [
    {
     "data": {
      "image/png": "[encoded data removed]",
      "text/plain": [
       "<Figure size 720x432 with 1 Axes>"
      ]
     },
     "metadata": {
      "needs_background": "light"
     },
     "output_type": "display_data"
    },
    {
     "data": {
      "image/png": "[encoded data removed]",
      "text/plain": [
       "<Figure size 720x432 with 1 Axes>"
      ]
     },
     "metadata": {
      "needs_background": "light"
     },
     "output_type": "display_data"
    },
    {
     "data": {
      "image/png": "[encoded data removed]",
      "text/plain": [
       "<Figure size 720x432 with 1 Axes>"
      ]
     },
     "metadata": {
      "needs_background": "light"
     },
     "output_type": "display_data"
    },
    {
     "data": {
      "text/plain": [
       "<Figure size 864x432 with 0 Axes>"
      ]
     },
     "metadata": {},
     "output_type": "display_data"
    },
    {
     "data": {
      "image/png": "[encoded data removed]",
      "text/plain": [
       "<Figure size 864x432 with 1 Axes>"
      ]
     },
     "metadata": {
      "needs_background": "light"
     },
     "output_type": "display_data"
    }
   ],
   "source": [
    "# 1. Top 5 Total Profit - Bottom 5 Total Profit\n",
    "plt.figure(figsize=(10, 6))\n",
    "sns.barplot(x='total_profit', y='Product', data=profit_stats.nlargest(5, 'total_profit'), color='green', label='Top 5')\n",
    "sns.barplot(x='total_profit', y='Product', data=profit_stats.nsmallest(5, 'total_profit'), color='red', label='Bottom 5')\n",
    "plt.title('Top 5 and Bottom 5 Total Profit')\n",
    "plt.legend()\n",
    "plt.show()\n",
    "\n",
    "# 2. Top 5 Median - Bottom 5 Median\n",
    "plt.figure(figsize=(10, 6))\n",
    "sns.barplot(x='median', y='Product', data=profit_stats.nlargest(5, 'median'), color='green', label='Top 5')\n",
    "sns.barplot(x='median', y='Product', data=profit_stats.nsmallest(5, 'median'), color='red', label='Bottom 5')\n",
    "plt.title('Top 5 and Bottom 5 Median Profit')\n",
    "plt.legend()\n",
    "plt.show()\n",
    "\n",
    "# 3. Top 5 MAD - Bottom 5 MAD\n",
    "plt.figure(figsize=(10, 6))\n",
    "sns.barplot(x='MAD', y='Product', data=profit_stats.nlargest(5, 'MAD'), color='green', label='Top 5')\n",
    "sns.barplot(x='MAD', y='Product', data=profit_stats.nsmallest(5, 'MAD'), color='red', label='Bottom 5')\n",
    "plt.title('Top 5 and Bottom 5 MAD')\n",
    "plt.legend()\n",
    "plt.show()\n",
    "\n",
    "# 4. Stacked Bar\n",
    "plt.figure(figsize=(12, 6))\n",
    "profit_stats_sorted = profit_stats.sort_values(by='count_positive', ascending=False)\n",
    "profit_stats_sorted.set_index('Product', inplace=True)\n",
    "\n",
    "profit_stats_sorted[['count_positive', 'count_negative']].plot(kind='barh', stacked=True, figsize=(12, 6), color=['blue', 'orange'])\n",
    "\n",
    "plt.title('Count Positive vs Count Negative per Product (Stacked)')\n",
    "plt.xlabel('Count of Transactions')\n",
    "plt.ylabel('Product')\n",
    "plt.show()\n"
   ]
  },
  {
   "cell_type": "markdown",
   "metadata": {},
   "source": [
    "Based on the analysis of key profit metrics across various products, we have several insight as follows: \n",
    "1. Top Performers in Total Profit: \n",
    "Products like \"Site Analytics\" and \"Data Smasher\" stand out with the highest total profits, suggesting they are strong revenue drivers despite the variability in profit. Focusing on maintaining or expanding these products could help sustain profitability.\n",
    "\n",
    "2. High Median Profit but Low Transaction Count:\n",
    "\"Alchemy\" has an exceptionally high median profit but only a small number of transactions (68), all of which are positive. This suggests that while the product is highly profitable per transaction, it may benefit from increased sales or marketing efforts to enhance its contribution to overall profits.\n",
    "\n",
    "3. Significant Profit Variability in Certain Products:\n",
    "Products like \"Big Ol Database\" and \"Marketing Suite\" show high median absolute deviation (MAD), indicating significant fluctuation in profit per transaction. This high variability could signal risk and highlight the need for stabilization strategies or closer monitoring.\n",
    "\n",
    "4. Product Reliance on Positive Transactions:\n",
    "Products such as \"ChatBot Plugin\" and \"SaaS Connector Pack - Gold\" show zero or very low negative transactions, which suggests a reliable performance in maintaining positive profits. These could be low-risk products where growth or increased investment could yield predictable returns.\n",
    "\n",
    "5. High Frequency of Negative Transactions and Net Loss:\n",
    "\"Marketing Suite\" has a negative total profit and a high count of negative transactions (109 out of 228), making it the least profitable product in the dataset. This product may require a strategic reassessment or possible repositioning, as it currently contributes a loss rather than profit."
   ]
  },
  {
   "cell_type": "code",
   "execution_count": 66,
   "metadata": {},
   "outputs": [
    {
     "name": "stdout",
     "output_type": "stream",
     "text": [
      "Finsihed\n"
     ]
    }
   ],
   "source": [
    "#Saving the data to xlsx\n",
    "with pd.ExcelWriter('tabel_SaaS_seperated.xlsx', engine='openpyxl') as writer:\n",
    "    df.to_excel(writer, sheet_name='Tabel_1', index=False)\n",
    "    customer_sales.to_excel(writer, sheet_name='Tabel_2', index=False)\n",
    "    correlation_matrix.to_excel(writer, sheet_name='Tabel_3', index=False)\n",
    "    correlation_per_country.to_excel(writer, sheet_name='Tabel_4', index=False)\n",
    "    profit_stats.to_excel(writer, sheet_name='Tabel_5', index=False)\n",
    "\n",
    "print(\"Finsihed\")"
   ]
  },
  {
   "cell_type": "markdown",
   "metadata": {},
   "source": [
    "# Thank You\n",
    "\n",
    "Author : Muh. Afdal Abidin"
   ]
  }
 ],
 "metadata": {
  "kernelspec": {
   "display_name": "base",
   "language": "python",
   "name": "python3"
  },
  "language_info": {
   "codemirror_mode": {
    "name": "ipython",
    "version": 3
   },
   "file_extension": ".py",
   "mimetype": "text/x-python",
   "name": "python",
   "nbconvert_exporter": "python",
   "pygments_lexer": "ipython3",
   "version": "3.8.8"
  }
 },
 "nbformat": 4,
 "nbformat_minor": 2
}
